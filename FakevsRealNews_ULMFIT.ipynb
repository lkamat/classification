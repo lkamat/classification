{
  "nbformat": 4,
  "nbformat_minor": 0,
  "metadata": {
    "colab": {
      "name": "FakevsRealNews - ULMFIT.ipynb",
      "version": "0.3.2",
      "provenance": [],
      "include_colab_link": true
    },
    "kernelspec": {
      "name": "python3",
      "display_name": "Python 3"
    },
    "accelerator": "GPU"
  },
  "cells": [
    {
      "cell_type": "markdown",
      "metadata": {
        "id": "view-in-github",
        "colab_type": "text"
      },
      "source": [
        "<a href=\"https://colab.research.google.com/github/lkamat/classification/blob/master/FakevsRealNews_ULMFIT.ipynb\" target=\"_parent\"><img src=\"https://colab.research.google.com/assets/colab-badge.svg\" alt=\"Open In Colab\"/></a>"
      ]
    },
    {
      "metadata": {
        "id": "sIRVYcd88ikT",
        "colab_type": "code",
        "colab": {
          "base_uri": "https://localhost:8080/",
          "height": 122
        },
        "outputId": "82a2b34e-8433-4823-8618-24696749cca9"
      },
      "cell_type": "code",
      "source": [
        "from google.colab import drive\n",
        "drive.mount('/content/drive')"
      ],
      "execution_count": 2,
      "outputs": [
        {
          "output_type": "stream",
          "text": [
            "Go to this URL in a browser: https://accounts.google.com/o/oauth2/auth?client_id=947318989803-6bn6qk8qdgf4n4g3pfee6491hc0brc4i.apps.googleusercontent.com&redirect_uri=urn%3Aietf%3Awg%3Aoauth%3A2.0%3Aoob&scope=email%20https%3A%2F%2Fwww.googleapis.com%2Fauth%2Fdocs.test%20https%3A%2F%2Fwww.googleapis.com%2Fauth%2Fdrive%20https%3A%2F%2Fwww.googleapis.com%2Fauth%2Fdrive.photos.readonly%20https%3A%2F%2Fwww.googleapis.com%2Fauth%2Fpeopleapi.readonly&response_type=code\n",
            "\n",
            "Enter your authorization code:\n",
            "··········\n",
            "Mounted at /content/drive\n"
          ],
          "name": "stdout"
        }
      ]
    },
    {
      "metadata": {
        "id": "kAW0oaf_882G",
        "colab_type": "code",
        "colab": {
          "base_uri": "https://localhost:8080/",
          "height": 34
        },
        "outputId": "964f6aaf-b9e4-4add-d29b-6fcefb537750"
      },
      "cell_type": "code",
      "source": [
        "cd /content/drive/My Drive/apps/Colab Notebooks"
      ],
      "execution_count": 3,
      "outputs": [
        {
          "output_type": "stream",
          "text": [
            "/content/drive/My Drive/apps/Colab Notebooks\n"
          ],
          "name": "stdout"
        }
      ]
    },
    {
      "metadata": {
        "id": "FxIDhKbc9dil",
        "colab_type": "text"
      },
      "cell_type": "markdown",
      "source": [
        "## Classify Fake vs real News dataset using Transfer Learning. (ULMFit Language model trained by Fast.ai)\n"
      ]
    },
    {
      "metadata": {
        "id": "yonuYm1M9ACK",
        "colab_type": "code",
        "colab": {
          "base_uri": "https://localhost:8080/",
          "height": 119
        },
        "outputId": "173061ff-51b7-44be-840d-fafe4b2cb86a"
      },
      "cell_type": "code",
      "source": [
        "#install Pytorch\n",
        "!pip install torch_nightly -f https://download.pytorch.org/whl/nightly/cu92/torch_nightly.html"
      ],
      "execution_count": 5,
      "outputs": [
        {
          "output_type": "stream",
          "text": [
            "Looking in links: https://download.pytorch.org/whl/nightly/cu92/torch_nightly.html\n",
            "Collecting torch_nightly\n",
            "\u001b[?25l  Downloading https://download.pytorch.org/whl/nightly/cu92/torch_nightly-1.0.0.dev20181206-cp36-cp36m-linux_x86_64.whl (576.2MB)\n",
            "\u001b[K    100% |████████████████████████████████| 576.2MB 25kB/s \n",
            "\u001b[?25hInstalling collected packages: torch-nightly\n",
            "Successfully installed torch-nightly-1.0.0.dev20181206\n"
          ],
          "name": "stdout"
        }
      ]
    },
    {
      "metadata": {
        "id": "jDMKdU4q9aDr",
        "colab_type": "text"
      },
      "cell_type": "markdown",
      "source": [
        ""
      ]
    },
    {
      "metadata": {
        "id": "amPahyfd9W9w",
        "colab_type": "code",
        "colab": {
          "base_uri": "https://localhost:8080/",
          "height": 1038
        },
        "outputId": "b10a241b-df2d-49e0-968b-45db164af4fd"
      },
      "cell_type": "code",
      "source": [
        "# Install Fast.ai\n",
        "!pip install fastai"
      ],
      "execution_count": 6,
      "outputs": [
        {
          "output_type": "stream",
          "text": [
            "Requirement already satisfied: fastai in /usr/local/lib/python3.6/dist-packages (1.0.50.post1)\n",
            "Requirement already satisfied: spacy>=2.0.18 in /usr/local/lib/python3.6/dist-packages (from fastai) (2.0.18)\n",
            "Requirement already satisfied: nvidia-ml-py3 in /usr/local/lib/python3.6/dist-packages (from fastai) (7.352.0)\n",
            "Requirement already satisfied: matplotlib in /usr/local/lib/python3.6/dist-packages (from fastai) (3.0.3)\n",
            "Collecting numpy>=1.15 (from fastai)\n",
            "\u001b[?25l  Downloading https://files.pythonhosted.org/packages/35/d5/4f8410ac303e690144f0a0603c4b8fd3b986feb2749c435f7cdbb288f17e/numpy-1.16.2-cp36-cp36m-manylinux1_x86_64.whl (17.3MB)\n",
            "\u001b[K    100% |████████████████████████████████| 17.3MB 2.2MB/s \n",
            "\u001b[?25hRequirement already satisfied: scipy in /usr/local/lib/python3.6/dist-packages (from fastai) (1.1.0)\n",
            "Requirement already satisfied: dataclasses; python_version < \"3.7\" in /usr/local/lib/python3.6/dist-packages (from fastai) (0.6)\n",
            "Requirement already satisfied: torchvision in /usr/local/lib/python3.6/dist-packages (from fastai) (0.2.2.post3)\n",
            "Requirement already satisfied: numexpr in /usr/local/lib/python3.6/dist-packages (from fastai) (2.6.9)\n",
            "Requirement already satisfied: packaging in /usr/local/lib/python3.6/dist-packages (from fastai) (19.0)\n",
            "Requirement already satisfied: bottleneck in /usr/local/lib/python3.6/dist-packages (from fastai) (1.2.1)\n",
            "Requirement already satisfied: typing in /usr/local/lib/python3.6/dist-packages (from fastai) (3.6.6)\n",
            "Requirement already satisfied: pandas in /usr/local/lib/python3.6/dist-packages (from fastai) (0.22.0)\n",
            "Requirement already satisfied: Pillow in /usr/local/lib/python3.6/dist-packages (from fastai) (4.1.1)\n",
            "Requirement already satisfied: requests in /usr/local/lib/python3.6/dist-packages (from fastai) (2.18.4)\n",
            "Requirement already satisfied: pyyaml in /usr/local/lib/python3.6/dist-packages (from fastai) (3.13)\n",
            "Requirement already satisfied: torch>=1.0.0 in /usr/local/lib/python3.6/dist-packages (from fastai) (1.0.1.post2)\n",
            "Requirement already satisfied: fastprogress>=0.1.19 in /usr/local/lib/python3.6/dist-packages (from fastai) (0.1.20)\n",
            "Requirement already satisfied: beautifulsoup4 in /usr/local/lib/python3.6/dist-packages (from fastai) (4.6.3)\n",
            "Requirement already satisfied: ujson>=1.35 in /usr/local/lib/python3.6/dist-packages (from spacy>=2.0.18->fastai) (1.35)\n",
            "Requirement already satisfied: murmurhash<1.1.0,>=0.28.0 in /usr/local/lib/python3.6/dist-packages (from spacy>=2.0.18->fastai) (1.0.2)\n",
            "Requirement already satisfied: plac<1.0.0,>=0.9.6 in /usr/local/lib/python3.6/dist-packages (from spacy>=2.0.18->fastai) (0.9.6)\n",
            "Requirement already satisfied: cymem<2.1.0,>=2.0.2 in /usr/local/lib/python3.6/dist-packages (from spacy>=2.0.18->fastai) (2.0.2)\n",
            "Requirement already satisfied: regex==2018.01.10 in /usr/local/lib/python3.6/dist-packages (from spacy>=2.0.18->fastai) (2018.1.10)\n",
            "Requirement already satisfied: dill<0.3,>=0.2 in /usr/local/lib/python3.6/dist-packages (from spacy>=2.0.18->fastai) (0.2.9)\n",
            "Requirement already satisfied: preshed<2.1.0,>=2.0.1 in /usr/local/lib/python3.6/dist-packages (from spacy>=2.0.18->fastai) (2.0.1)\n",
            "Requirement already satisfied: thinc<6.13.0,>=6.12.1 in /usr/local/lib/python3.6/dist-packages (from spacy>=2.0.18->fastai) (6.12.1)\n",
            "Requirement already satisfied: pyparsing!=2.0.4,!=2.1.2,!=2.1.6,>=2.0.1 in /usr/local/lib/python3.6/dist-packages (from matplotlib->fastai) (2.3.1)\n",
            "Requirement already satisfied: kiwisolver>=1.0.1 in /usr/local/lib/python3.6/dist-packages (from matplotlib->fastai) (1.0.1)\n",
            "Requirement already satisfied: python-dateutil>=2.1 in /usr/local/lib/python3.6/dist-packages (from matplotlib->fastai) (2.5.3)\n",
            "Requirement already satisfied: cycler>=0.10 in /usr/local/lib/python3.6/dist-packages (from matplotlib->fastai) (0.10.0)\n",
            "Requirement already satisfied: six in /usr/local/lib/python3.6/dist-packages (from torchvision->fastai) (1.11.0)\n",
            "Requirement already satisfied: pytz>=2011k in /usr/local/lib/python3.6/dist-packages (from pandas->fastai) (2018.9)\n",
            "Requirement already satisfied: olefile in /usr/local/lib/python3.6/dist-packages (from Pillow->fastai) (0.46)\n",
            "Requirement already satisfied: chardet<3.1.0,>=3.0.2 in /usr/local/lib/python3.6/dist-packages (from requests->fastai) (3.0.4)\n",
            "Requirement already satisfied: urllib3<1.23,>=1.21.1 in /usr/local/lib/python3.6/dist-packages (from requests->fastai) (1.22)\n",
            "Requirement already satisfied: certifi>=2017.4.17 in /usr/local/lib/python3.6/dist-packages (from requests->fastai) (2019.3.9)\n",
            "Requirement already satisfied: idna<2.7,>=2.5 in /usr/local/lib/python3.6/dist-packages (from requests->fastai) (2.6)\n",
            "Requirement already satisfied: wrapt<1.11.0,>=1.10.0 in /usr/local/lib/python3.6/dist-packages (from thinc<6.13.0,>=6.12.1->spacy>=2.0.18->fastai) (1.10.11)\n",
            "Requirement already satisfied: tqdm<5.0.0,>=4.10.0 in /usr/local/lib/python3.6/dist-packages (from thinc<6.13.0,>=6.12.1->spacy>=2.0.18->fastai) (4.28.1)\n",
            "Requirement already satisfied: msgpack-numpy<0.4.4 in /usr/local/lib/python3.6/dist-packages (from thinc<6.13.0,>=6.12.1->spacy>=2.0.18->fastai) (0.4.3.2)\n",
            "Requirement already satisfied: cytoolz<0.10,>=0.9.0 in /usr/local/lib/python3.6/dist-packages (from thinc<6.13.0,>=6.12.1->spacy>=2.0.18->fastai) (0.9.0.1)\n",
            "Requirement already satisfied: msgpack<0.6.0,>=0.5.6 in /usr/local/lib/python3.6/dist-packages (from thinc<6.13.0,>=6.12.1->spacy>=2.0.18->fastai) (0.5.6)\n",
            "Requirement already satisfied: setuptools in /usr/local/lib/python3.6/dist-packages (from kiwisolver>=1.0.1->matplotlib->fastai) (40.8.0)\n",
            "Requirement already satisfied: toolz>=0.8.0 in /usr/local/lib/python3.6/dist-packages (from cytoolz<0.10,>=0.9.0->thinc<6.13.0,>=6.12.1->spacy>=2.0.18->fastai) (0.9.0)\n",
            "\u001b[31mfeaturetools 0.4.1 has requirement pandas>=0.23.0, but you'll have pandas 0.22.0 which is incompatible.\u001b[0m\n",
            "\u001b[31mdatascience 0.10.6 has requirement folium==0.2.1, but you'll have folium 0.8.3 which is incompatible.\u001b[0m\n",
            "\u001b[31malbumentations 0.1.12 has requirement imgaug<0.2.7,>=0.2.5, but you'll have imgaug 0.2.8 which is incompatible.\u001b[0m\n",
            "Installing collected packages: numpy\n",
            "  Found existing installation: numpy 1.14.6\n",
            "    Uninstalling numpy-1.14.6:\n",
            "      Successfully uninstalled numpy-1.14.6\n",
            "Successfully installed numpy-1.16.2\n"
          ],
          "name": "stdout"
        },
        {
          "output_type": "display_data",
          "data": {
            "application/vnd.colab-display-data+json": {
              "pip_warning": {
                "packages": [
                  "numpy"
                ]
              }
            }
          },
          "metadata": {
            "tags": []
          }
        }
      ]
    },
    {
      "metadata": {
        "id": "i_EJf9FN-Ity",
        "colab_type": "code",
        "colab": {}
      },
      "cell_type": "code",
      "source": [
        "# import libraries\n",
        "import fastai\n",
        "from fastai import *\n",
        "from fastai.text import * \n",
        "import pandas as pd\n",
        "import numpy as np\n",
        "from functools import partial\n",
        "import io\n",
        "import os"
      ],
      "execution_count": 0,
      "outputs": []
    },
    {
      "metadata": {
        "id": "mQMCZp9U-ZJf",
        "colab_type": "code",
        "colab": {}
      },
      "cell_type": "code",
      "source": [
        "# Import `fake_or_real_news.csv` \n",
        "df = pd.read_csv(\"https://s3.amazonaws.com/assets.datacamp.com/blog_assets/fake_or_real_news.csv\")"
      ],
      "execution_count": 0,
      "outputs": []
    },
    {
      "metadata": {
        "id": "ypUTHkvd-qgO",
        "colab_type": "code",
        "colab": {
          "base_uri": "https://localhost:8080/",
          "height": 34
        },
        "outputId": "b54e6efc-799b-4015-d492-04981c845dc9"
      },
      "cell_type": "code",
      "source": [
        "df.shape\n"
      ],
      "execution_count": 75,
      "outputs": [
        {
          "output_type": "execute_result",
          "data": {
            "text/plain": [
              "(6335, 4)"
            ]
          },
          "metadata": {
            "tags": []
          },
          "execution_count": 75
        }
      ]
    },
    {
      "metadata": {
        "id": "yE-PcZ0j_EGC",
        "colab_type": "code",
        "colab": {
          "base_uri": "https://localhost:8080/",
          "height": 204
        },
        "outputId": "2c9c259a-f0c9-403d-967d-6ff688fb50c7"
      },
      "cell_type": "code",
      "source": [
        "df.head()"
      ],
      "execution_count": 81,
      "outputs": [
        {
          "output_type": "execute_result",
          "data": {
            "text/html": [
              "<div>\n",
              "<style scoped>\n",
              "    .dataframe tbody tr th:only-of-type {\n",
              "        vertical-align: middle;\n",
              "    }\n",
              "\n",
              "    .dataframe tbody tr th {\n",
              "        vertical-align: top;\n",
              "    }\n",
              "\n",
              "    .dataframe thead th {\n",
              "        text-align: right;\n",
              "    }\n",
              "</style>\n",
              "<table border=\"1\" class=\"dataframe\">\n",
              "  <thead>\n",
              "    <tr style=\"text-align: right;\">\n",
              "      <th></th>\n",
              "      <th>Unnamed: 0</th>\n",
              "      <th>title</th>\n",
              "      <th>text</th>\n",
              "      <th>label</th>\n",
              "    </tr>\n",
              "  </thead>\n",
              "  <tbody>\n",
              "    <tr>\n",
              "      <th>0</th>\n",
              "      <td>8476</td>\n",
              "      <td>You Can Smell Hillary’s Fear</td>\n",
              "      <td>Daniel Greenfield, a Shillman Journalism Fello...</td>\n",
              "      <td>FAKE</td>\n",
              "    </tr>\n",
              "    <tr>\n",
              "      <th>1</th>\n",
              "      <td>10294</td>\n",
              "      <td>Watch The Exact Moment Paul Ryan Committed Pol...</td>\n",
              "      <td>Google Pinterest Digg Linkedin Reddit Stumbleu...</td>\n",
              "      <td>FAKE</td>\n",
              "    </tr>\n",
              "    <tr>\n",
              "      <th>2</th>\n",
              "      <td>3608</td>\n",
              "      <td>Kerry to go to Paris in gesture of sympathy</td>\n",
              "      <td>U.S. Secretary of State John F. Kerry said Mon...</td>\n",
              "      <td>REAL</td>\n",
              "    </tr>\n",
              "    <tr>\n",
              "      <th>3</th>\n",
              "      <td>10142</td>\n",
              "      <td>Bernie supporters on Twitter erupt in anger ag...</td>\n",
              "      <td>— Kaydee King (@KaydeeKing) November 9, 2016 T...</td>\n",
              "      <td>FAKE</td>\n",
              "    </tr>\n",
              "    <tr>\n",
              "      <th>4</th>\n",
              "      <td>875</td>\n",
              "      <td>The Battle of New York: Why This Primary Matters</td>\n",
              "      <td>It's primary day in New York and front-runners...</td>\n",
              "      <td>REAL</td>\n",
              "    </tr>\n",
              "  </tbody>\n",
              "</table>\n",
              "</div>"
            ],
            "text/plain": [
              "   Unnamed: 0                                              title  \\\n",
              "0        8476                       You Can Smell Hillary’s Fear   \n",
              "1       10294  Watch The Exact Moment Paul Ryan Committed Pol...   \n",
              "2        3608        Kerry to go to Paris in gesture of sympathy   \n",
              "3       10142  Bernie supporters on Twitter erupt in anger ag...   \n",
              "4         875   The Battle of New York: Why This Primary Matters   \n",
              "\n",
              "                                                text label  \n",
              "0  Daniel Greenfield, a Shillman Journalism Fello...  FAKE  \n",
              "1  Google Pinterest Digg Linkedin Reddit Stumbleu...  FAKE  \n",
              "2  U.S. Secretary of State John F. Kerry said Mon...  REAL  \n",
              "3  — Kaydee King (@KaydeeKing) November 9, 2016 T...  FAKE  \n",
              "4  It's primary day in New York and front-runners...  REAL  "
            ]
          },
          "metadata": {
            "tags": []
          },
          "execution_count": 81
        }
      ]
    },
    {
      "metadata": {
        "id": "DZKNcZ8yNCD5",
        "colab_type": "text"
      },
      "cell_type": "markdown",
      "source": [
        "### Lets use only Label to classify and text"
      ]
    },
    {
      "metadata": {
        "id": "mNZywJJfBkiC",
        "colab_type": "code",
        "colab": {}
      },
      "cell_type": "code",
      "source": [
        "df = df[['label', 'text']]\n",
        "df = df.reset_index(drop = True)"
      ],
      "execution_count": 0,
      "outputs": []
    },
    {
      "metadata": {
        "id": "W2N59tNWKTjH",
        "colab_type": "code",
        "colab": {
          "base_uri": "https://localhost:8080/",
          "height": 204
        },
        "outputId": "942c21d0-0094-42ee-d857-5424a4182f8a"
      },
      "cell_type": "code",
      "source": [
        "df.head()"
      ],
      "execution_count": 87,
      "outputs": [
        {
          "output_type": "execute_result",
          "data": {
            "text/html": [
              "<div>\n",
              "<style scoped>\n",
              "    .dataframe tbody tr th:only-of-type {\n",
              "        vertical-align: middle;\n",
              "    }\n",
              "\n",
              "    .dataframe tbody tr th {\n",
              "        vertical-align: top;\n",
              "    }\n",
              "\n",
              "    .dataframe thead th {\n",
              "        text-align: right;\n",
              "    }\n",
              "</style>\n",
              "<table border=\"1\" class=\"dataframe\">\n",
              "  <thead>\n",
              "    <tr style=\"text-align: right;\">\n",
              "      <th></th>\n",
              "      <th>label</th>\n",
              "      <th>text</th>\n",
              "    </tr>\n",
              "  </thead>\n",
              "  <tbody>\n",
              "    <tr>\n",
              "      <th>0</th>\n",
              "      <td>FAKE</td>\n",
              "      <td>Daniel Greenfield, a Shillman Journalism Fello...</td>\n",
              "    </tr>\n",
              "    <tr>\n",
              "      <th>1</th>\n",
              "      <td>FAKE</td>\n",
              "      <td>Google Pinterest Digg Linkedin Reddit Stumbleu...</td>\n",
              "    </tr>\n",
              "    <tr>\n",
              "      <th>2</th>\n",
              "      <td>REAL</td>\n",
              "      <td>U.S. Secretary of State John F. Kerry said Mon...</td>\n",
              "    </tr>\n",
              "    <tr>\n",
              "      <th>3</th>\n",
              "      <td>FAKE</td>\n",
              "      <td>— Kaydee King (@KaydeeKing) November 9, 2016 T...</td>\n",
              "    </tr>\n",
              "    <tr>\n",
              "      <th>4</th>\n",
              "      <td>REAL</td>\n",
              "      <td>It's primary day in New York and front-runners...</td>\n",
              "    </tr>\n",
              "  </tbody>\n",
              "</table>\n",
              "</div>"
            ],
            "text/plain": [
              "  label                                               text\n",
              "0  FAKE  Daniel Greenfield, a Shillman Journalism Fello...\n",
              "1  FAKE  Google Pinterest Digg Linkedin Reddit Stumbleu...\n",
              "2  REAL  U.S. Secretary of State John F. Kerry said Mon...\n",
              "3  FAKE  — Kaydee King (@KaydeeKing) November 9, 2016 T...\n",
              "4  REAL  It's primary day in New York and front-runners..."
            ]
          },
          "metadata": {
            "tags": []
          },
          "execution_count": 87
        }
      ]
    },
    {
      "metadata": {
        "id": "klOGQwACB8He",
        "colab_type": "code",
        "colab": {
          "base_uri": "https://localhost:8080/",
          "height": 204
        },
        "outputId": "a3329d74-1765-41a1-96c3-ded7397f69f4"
      },
      "cell_type": "code",
      "source": [
        "df.sample(5)"
      ],
      "execution_count": 88,
      "outputs": [
        {
          "output_type": "execute_result",
          "data": {
            "text/html": [
              "<div>\n",
              "<style scoped>\n",
              "    .dataframe tbody tr th:only-of-type {\n",
              "        vertical-align: middle;\n",
              "    }\n",
              "\n",
              "    .dataframe tbody tr th {\n",
              "        vertical-align: top;\n",
              "    }\n",
              "\n",
              "    .dataframe thead th {\n",
              "        text-align: right;\n",
              "    }\n",
              "</style>\n",
              "<table border=\"1\" class=\"dataframe\">\n",
              "  <thead>\n",
              "    <tr style=\"text-align: right;\">\n",
              "      <th></th>\n",
              "      <th>label</th>\n",
              "      <th>text</th>\n",
              "    </tr>\n",
              "  </thead>\n",
              "  <tbody>\n",
              "    <tr>\n",
              "      <th>3671</th>\n",
              "      <td>REAL</td>\n",
              "      <td>Whoever dubbed Tuesday, April 26 the “Acela Pr...</td>\n",
              "    </tr>\n",
              "    <tr>\n",
              "      <th>4434</th>\n",
              "      <td>REAL</td>\n",
              "      <td>Washington (CNN) Donald Trump is attempting to...</td>\n",
              "    </tr>\n",
              "    <tr>\n",
              "      <th>6224</th>\n",
              "      <td>REAL</td>\n",
              "      <td>Faced with an unending scandal about her use o...</td>\n",
              "    </tr>\n",
              "    <tr>\n",
              "      <th>4638</th>\n",
              "      <td>REAL</td>\n",
              "      <td>Political columnists Michael Gerson and EJ Dio...</td>\n",
              "    </tr>\n",
              "    <tr>\n",
              "      <th>3942</th>\n",
              "      <td>FAKE</td>\n",
              "      <td>Email \\nThe Pew Research Center released a rep...</td>\n",
              "    </tr>\n",
              "  </tbody>\n",
              "</table>\n",
              "</div>"
            ],
            "text/plain": [
              "     label                                               text\n",
              "3671  REAL  Whoever dubbed Tuesday, April 26 the “Acela Pr...\n",
              "4434  REAL  Washington (CNN) Donald Trump is attempting to...\n",
              "6224  REAL  Faced with an unending scandal about her use o...\n",
              "4638  REAL  Political columnists Michael Gerson and EJ Dio...\n",
              "3942  FAKE  Email \\nThe Pew Research Center released a rep..."
            ]
          },
          "metadata": {
            "tags": []
          },
          "execution_count": 88
        }
      ]
    },
    {
      "metadata": {
        "id": "k8HVHT8sNNxv",
        "colab_type": "text"
      },
      "cell_type": "markdown",
      "source": [
        "### Check for balanced dataset\n"
      ]
    },
    {
      "metadata": {
        "id": "yUL0l-4fCT8b",
        "colab_type": "code",
        "colab": {
          "base_uri": "https://localhost:8080/",
          "height": 68
        },
        "outputId": "77a3e4ac-426a-4809-8482-8248dd29d6ce"
      },
      "cell_type": "code",
      "source": [
        "df['label'].value_counts()"
      ],
      "execution_count": 89,
      "outputs": [
        {
          "output_type": "execute_result",
          "data": {
            "text/plain": [
              "REAL    3171\n",
              "FAKE    3164\n",
              "Name: label, dtype: int64"
            ]
          },
          "metadata": {
            "tags": []
          },
          "execution_count": 89
        }
      ]
    },
    {
      "metadata": {
        "id": "iVa64jXKNMuk",
        "colab_type": "text"
      },
      "cell_type": "markdown",
      "source": [
        "#Data Preprocessing\n",
        "### Clean our text by retaining only alphabets and removing everything else"
      ]
    },
    {
      "metadata": {
        "id": "hsmdZPQqCWjx",
        "colab_type": "code",
        "colab": {}
      },
      "cell_type": "code",
      "source": [
        "df['text'] = df['text'].str.replace(\"[^a-zA-Z]\", \" \")"
      ],
      "execution_count": 0,
      "outputs": []
    },
    {
      "metadata": {
        "id": "ZGWzKpuMCYwl",
        "colab_type": "code",
        "colab": {}
      },
      "cell_type": "code",
      "source": [
        "#Now let’s split our cleaned dataset into training and validation sets in a 60:40 ratio.\n",
        "\n",
        "from sklearn.model_selection import train_test_split\n",
        "\n",
        "# split data into training and validation set\n",
        "df_trn, df_val = train_test_split(df, stratify = df['label'], test_size = 0.4, random_state = 12)"
      ],
      "execution_count": 0,
      "outputs": []
    },
    {
      "metadata": {
        "id": "YQI-O4VsO0Sl",
        "colab_type": "code",
        "colab": {
          "base_uri": "https://localhost:8080/",
          "height": 34
        },
        "outputId": "f7b2d01b-abe8-49f6-a4e8-6a1760b50e8d"
      },
      "cell_type": "code",
      "source": [
        "df_trn.shape, df_val.shape"
      ],
      "execution_count": 92,
      "outputs": [
        {
          "output_type": "execute_result",
          "data": {
            "text/plain": [
              "((3801, 2), (2534, 2))"
            ]
          },
          "metadata": {
            "tags": []
          },
          "execution_count": 92
        }
      ]
    },
    {
      "metadata": {
        "id": "5zmg59YfPRtv",
        "colab_type": "text"
      },
      "cell_type": "markdown",
      "source": [
        "#Data Preparation\n",
        "### prepare our data for the language model and for the classification model separately. \n",
        "\n"
      ]
    },
    {
      "metadata": {
        "id": "OEJSCEbaO1rb",
        "colab_type": "code",
        "colab": {}
      },
      "cell_type": "code",
      "source": [
        "# Language model data\n",
        "data_lm = TextLMDataBunch.from_df(train_df = df_trn, valid_df = df_val, path = \"\")\n",
        "\n",
        "# Classifier model data\n",
        "data_clas = TextClasDataBunch.from_df(path = \"\", train_df = df_trn, valid_df = df_val, vocab=data_lm.train_ds.vocab, bs=32)"
      ],
      "execution_count": 0,
      "outputs": []
    },
    {
      "metadata": {
        "id": "BIEyM3ooQFfT",
        "colab_type": "text"
      },
      "cell_type": "markdown",
      "source": [
        "##Fine-Tuning the Pre-Trained Model and Making Predictions\n",
        "##We can use the data_lm object we created earlier to fine-tune a pre-trained language model. We can create a learner object, ‘learn’, that will directly create a model, download the pre-trained weights, and be ready for fine-tuning:"
      ]
    },
    {
      "metadata": {
        "id": "7grVLatePkfD",
        "colab_type": "code",
        "colab": {}
      },
      "cell_type": "code",
      "source": [
        "learn = language_model_learner(data_lm, arch=AWD_LSTM, drop_mult=0.7)"
      ],
      "execution_count": 0,
      "outputs": []
    },
    {
      "metadata": {
        "id": "sPwh8Od_QVlA",
        "colab_type": "code",
        "colab": {
          "base_uri": "https://localhost:8080/",
          "height": 34
        },
        "outputId": "ad555810-ac06-4b5c-b5d6-3aadfcfabab4"
      },
      "cell_type": "code",
      "source": [
        "learn.lr_find()"
      ],
      "execution_count": 95,
      "outputs": [
        {
          "output_type": "display_data",
          "data": {
            "text/html": [
              ""
            ],
            "text/plain": [
              "<IPython.core.display.HTML object>"
            ]
          },
          "metadata": {
            "tags": []
          }
        },
        {
          "output_type": "stream",
          "text": [
            "LR Finder is complete, type {learner_name}.recorder.plot() to see the graph.\n"
          ],
          "name": "stdout"
        }
      ]
    },
    {
      "metadata": {
        "id": "h0s9jsouQl9n",
        "colab_type": "code",
        "colab": {
          "base_uri": "https://localhost:8080/",
          "height": 361
        },
        "outputId": "d456c455-ef3f-449d-e4aa-e72c87150ac1"
      },
      "cell_type": "code",
      "source": [
        "learn.recorder.plot()"
      ],
      "execution_count": 96,
      "outputs": [
        {
          "output_type": "display_data",
          "data": {
            "image/png": "[encoded data removed]",
            "text/plain": [
              "<Figure size 576x396 with 1 Axes>"
            ]
          },
          "metadata": {
            "tags": []
          }
        }
      ]
    },
    {
      "metadata": {
        "id": "-pI5SlxZQojm",
        "colab_type": "code",
        "colab": {
          "base_uri": "https://localhost:8080/",
          "height": 103
        },
        "outputId": "39c6c306-6b2b-4fac-fb62-b266140d0fe5"
      },
      "cell_type": "code",
      "source": [
        "# Run one epoch with lower layers \n",
        "learn.fit_one_cycle(cyc_len=1, max_lr=1e-3, moms=(0.8, 0.7))\n"
      ],
      "execution_count": 97,
      "outputs": [
        {
          "output_type": "display_data",
          "data": {
            "text/html": [
              "Total time: 08:47 <p><table border=\"1\" class=\"dataframe\">\n",
              "  <thead>\n",
              "    <tr style=\"text-align: left;\">\n",
              "      <th>epoch</th>\n",
              "      <th>train_loss</th>\n",
              "      <th>valid_loss</th>\n",
              "      <th>accuracy</th>\n",
              "      <th>time</th>\n",
              "    </tr>\n",
              "  </thead>\n",
              "  <tbody>\n",
              "    <tr>\n",
              "      <td>0</td>\n",
              "      <td>4.914933</td>\n",
              "      <td>4.515143</td>\n",
              "      <td>0.256356</td>\n",
              "      <td>08:47</td>\n",
              "    </tr>\n",
              "  </tbody>\n",
              "</table>"
            ],
            "text/plain": [
              "<IPython.core.display.HTML object>"
            ]
          },
          "metadata": {
            "tags": []
          }
        }
      ]
    },
    {
      "metadata": {
        "id": "lZ1ABLFMS3i_",
        "colab_type": "code",
        "colab": {
          "base_uri": "https://localhost:8080/",
          "height": 382
        },
        "outputId": "fb33d9d9-6481-4726-d204-fed7154ca699"
      },
      "cell_type": "code",
      "source": [
        "# Run for many epochs with all layers unfrozen\n",
        "learn.unfreeze()\n",
        "learn.fit_one_cycle(cyc_len=10, max_lr=1e-3, moms=(0.8, 0.7))"
      ],
      "execution_count": 98,
      "outputs": [
        {
          "output_type": "display_data",
          "data": {
            "text/html": [
              "Total time: 1:40:03 <p><table border=\"1\" class=\"dataframe\">\n",
              "  <thead>\n",
              "    <tr style=\"text-align: left;\">\n",
              "      <th>epoch</th>\n",
              "      <th>train_loss</th>\n",
              "      <th>valid_loss</th>\n",
              "      <th>accuracy</th>\n",
              "      <th>time</th>\n",
              "    </tr>\n",
              "  </thead>\n",
              "  <tbody>\n",
              "    <tr>\n",
              "      <td>0</td>\n",
              "      <td>4.689369</td>\n",
              "      <td>4.357029</td>\n",
              "      <td>0.277343</td>\n",
              "      <td>09:59</td>\n",
              "    </tr>\n",
              "    <tr>\n",
              "      <td>1</td>\n",
              "      <td>4.467308</td>\n",
              "      <td>4.219299</td>\n",
              "      <td>0.288084</td>\n",
              "      <td>09:59</td>\n",
              "    </tr>\n",
              "    <tr>\n",
              "      <td>2</td>\n",
              "      <td>4.278418</td>\n",
              "      <td>4.117074</td>\n",
              "      <td>0.296171</td>\n",
              "      <td>10:00</td>\n",
              "    </tr>\n",
              "    <tr>\n",
              "      <td>3</td>\n",
              "      <td>4.137014</td>\n",
              "      <td>4.044222</td>\n",
              "      <td>0.302475</td>\n",
              "      <td>10:00</td>\n",
              "    </tr>\n",
              "    <tr>\n",
              "      <td>4</td>\n",
              "      <td>4.052101</td>\n",
              "      <td>3.997787</td>\n",
              "      <td>0.307186</td>\n",
              "      <td>10:00</td>\n",
              "    </tr>\n",
              "    <tr>\n",
              "      <td>5</td>\n",
              "      <td>3.942822</td>\n",
              "      <td>3.964703</td>\n",
              "      <td>0.310845</td>\n",
              "      <td>10:00</td>\n",
              "    </tr>\n",
              "    <tr>\n",
              "      <td>6</td>\n",
              "      <td>3.866849</td>\n",
              "      <td>3.942923</td>\n",
              "      <td>0.313064</td>\n",
              "      <td>10:00</td>\n",
              "    </tr>\n",
              "    <tr>\n",
              "      <td>7</td>\n",
              "      <td>3.766207</td>\n",
              "      <td>3.930918</td>\n",
              "      <td>0.314563</td>\n",
              "      <td>10:00</td>\n",
              "    </tr>\n",
              "    <tr>\n",
              "      <td>8</td>\n",
              "      <td>3.696566</td>\n",
              "      <td>3.925698</td>\n",
              "      <td>0.315072</td>\n",
              "      <td>10:01</td>\n",
              "    </tr>\n",
              "    <tr>\n",
              "      <td>9</td>\n",
              "      <td>3.696716</td>\n",
              "      <td>3.924939</td>\n",
              "      <td>0.315173</td>\n",
              "      <td>10:00</td>\n",
              "    </tr>\n",
              "  </tbody>\n",
              "</table>"
            ],
            "text/plain": [
              "<IPython.core.display.HTML object>"
            ]
          },
          "metadata": {
            "tags": []
          }
        }
      ]
    },
    {
      "metadata": {
        "id": "FXFWXmar9EMn",
        "colab_type": "text"
      },
      "cell_type": "markdown",
      "source": [
        "## Fine-tuned encoder layer’s weights are then saved for use during the classification stage."
      ]
    },
    {
      "metadata": {
        "id": "ksY32sGYqFbf",
        "colab_type": "code",
        "colab": {}
      },
      "cell_type": "code",
      "source": [
        "# Save the fine-tuned encoder\n",
        "learn.save_encoder('/content/drive/My Drive/apps/Colab Notebooks/fakerealnewsft_enc')"
      ],
      "execution_count": 0,
      "outputs": []
    },
    {
      "metadata": {
        "id": "FRTrrNi2qgC0",
        "colab_type": "text"
      },
      "cell_type": "markdown",
      "source": [
        "##Fine-tuning the classifier\n",
        "##This step involves creating a classifier object [source] that can predict a class label once we re-train the model as a classifier. \n",
        "##The same network structure is still used for this task — the output layer is defined in a way that takes into account the number of classes we want to predict in our data."
      ]
    },
    {
      "metadata": {
        "id": "NummPQyFqVKt",
        "colab_type": "code",
        "colab": {
          "base_uri": "https://localhost:8080/",
          "height": 103
        },
        "outputId": "cadbf3e6-94f7-400b-ecf1-a04a04abdfc6"
      },
      "cell_type": "code",
      "source": [
        "# Classifier learner \n",
        "learn = text_classifier_learner(data_clas,arch=AWD_LSTM, drop_mult=0.5)\n",
        "learn.load_encoder('/content/drive/My Drive/apps/Colab Notebooks/fakerealnewsft_enc')\n",
        "learn.freeze()\n",
        "learn.fit_one_cycle(cyc_len=1, max_lr=1e-3, moms=(0.8, 0.7))"
      ],
      "execution_count": 100,
      "outputs": [
        {
          "output_type": "display_data",
          "data": {
            "text/html": [
              "Total time: 07:22 <p><table border=\"1\" class=\"dataframe\">\n",
              "  <thead>\n",
              "    <tr style=\"text-align: left;\">\n",
              "      <th>epoch</th>\n",
              "      <th>train_loss</th>\n",
              "      <th>valid_loss</th>\n",
              "      <th>accuracy</th>\n",
              "      <th>time</th>\n",
              "    </tr>\n",
              "  </thead>\n",
              "  <tbody>\n",
              "    <tr>\n",
              "      <td>0</td>\n",
              "      <td>0.357482</td>\n",
              "      <td>0.281709</td>\n",
              "      <td>0.881215</td>\n",
              "      <td>07:22</td>\n",
              "    </tr>\n",
              "  </tbody>\n",
              "</table>"
            ],
            "text/plain": [
              "<IPython.core.display.HTML object>"
            ]
          },
          "metadata": {
            "tags": []
          }
        }
      ]
    },
    {
      "metadata": {
        "id": "UpP37OIJtAs5",
        "colab_type": "code",
        "colab": {
          "base_uri": "https://localhost:8080/",
          "height": 103
        },
        "outputId": "57149c17-4c3b-4ce6-903f-8b5e08fd8f7e"
      },
      "cell_type": "code",
      "source": [
        "learn.freeze_to(-2)\n",
        "learn.fit_one_cycle(1, slice(1e-4,1e-2), moms=(0.8,0.7))"
      ],
      "execution_count": 101,
      "outputs": [
        {
          "output_type": "display_data",
          "data": {
            "text/html": [
              "Total time: 07:24 <p><table border=\"1\" class=\"dataframe\">\n",
              "  <thead>\n",
              "    <tr style=\"text-align: left;\">\n",
              "      <th>epoch</th>\n",
              "      <th>train_loss</th>\n",
              "      <th>valid_loss</th>\n",
              "      <th>accuracy</th>\n",
              "      <th>time</th>\n",
              "    </tr>\n",
              "  </thead>\n",
              "  <tbody>\n",
              "    <tr>\n",
              "      <td>0</td>\n",
              "      <td>0.300481</td>\n",
              "      <td>0.169693</td>\n",
              "      <td>0.943173</td>\n",
              "      <td>07:24</td>\n",
              "    </tr>\n",
              "  </tbody>\n",
              "</table>"
            ],
            "text/plain": [
              "<IPython.core.display.HTML object>"
            ]
          },
          "metadata": {
            "tags": []
          }
        }
      ]
    },
    {
      "metadata": {
        "id": "L3v4EcZcvW9w",
        "colab_type": "code",
        "colab": {
          "base_uri": "https://localhost:8080/",
          "height": 196
        },
        "outputId": "0b3f22b8-4a11-4a81-9fab-ea658187cdf7"
      },
      "cell_type": "code",
      "source": [
        "learn.unfreeze()\n",
        "learn.fit_one_cycle(4, slice(1e-5,1e-3), moms=(0.8,0.7))"
      ],
      "execution_count": 102,
      "outputs": [
        {
          "output_type": "display_data",
          "data": {
            "text/html": [
              "Total time: 47:11 <p><table border=\"1\" class=\"dataframe\">\n",
              "  <thead>\n",
              "    <tr style=\"text-align: left;\">\n",
              "      <th>epoch</th>\n",
              "      <th>train_loss</th>\n",
              "      <th>valid_loss</th>\n",
              "      <th>accuracy</th>\n",
              "      <th>time</th>\n",
              "    </tr>\n",
              "  </thead>\n",
              "  <tbody>\n",
              "    <tr>\n",
              "      <td>0</td>\n",
              "      <td>0.235055</td>\n",
              "      <td>0.147674</td>\n",
              "      <td>0.950276</td>\n",
              "      <td>11:50</td>\n",
              "    </tr>\n",
              "    <tr>\n",
              "      <td>1</td>\n",
              "      <td>0.226026</td>\n",
              "      <td>0.136003</td>\n",
              "      <td>0.948303</td>\n",
              "      <td>11:44</td>\n",
              "    </tr>\n",
              "    <tr>\n",
              "      <td>2</td>\n",
              "      <td>0.175087</td>\n",
              "      <td>0.119824</td>\n",
              "      <td>0.954617</td>\n",
              "      <td>11:29</td>\n",
              "    </tr>\n",
              "    <tr>\n",
              "      <td>3</td>\n",
              "      <td>0.157933</td>\n",
              "      <td>0.113653</td>\n",
              "      <td>0.958564</td>\n",
              "      <td>12:06</td>\n",
              "    </tr>\n",
              "  </tbody>\n",
              "</table>"
            ],
            "text/plain": [
              "<IPython.core.display.HTML object>"
            ]
          },
          "metadata": {
            "tags": []
          }
        }
      ]
    },
    {
      "metadata": {
        "id": "JaMhERup6UZ6",
        "colab_type": "code",
        "colab": {
          "base_uri": "https://localhost:8080/",
          "height": 34
        },
        "outputId": "feda587e-5ecc-4ab7-b92d-1688228fbd4b"
      },
      "cell_type": "code",
      "source": [
        "learn.predict(\"The concept of God as a teacher is indeed interesting\")"
      ],
      "execution_count": 103,
      "outputs": [
        {
          "output_type": "execute_result",
          "data": {
            "text/plain": [
              "(Category FAKE, tensor(0), tensor([0.9625, 0.0375]))"
            ]
          },
          "metadata": {
            "tags": []
          },
          "execution_count": 103
        }
      ]
    },
    {
      "metadata": {
        "id": "nsqlBDNL6ca8",
        "colab_type": "code",
        "colab": {
          "base_uri": "https://localhost:8080/",
          "height": 34
        },
        "outputId": "04dddcc7-4a83-4408-e8af-dda7b99bfd86"
      },
      "cell_type": "code",
      "source": [
        "learn.predict(\"Obama signs executive order banning National Anthem in sports arena.\")"
      ],
      "execution_count": 105,
      "outputs": [
        {
          "output_type": "execute_result",
          "data": {
            "text/plain": [
              "(Category FAKE, tensor(0), tensor([0.8997, 0.1003]))"
            ]
          },
          "metadata": {
            "tags": []
          },
          "execution_count": 105
        }
      ]
    },
    {
      "metadata": {
        "id": "gPNl5r4m7PcO",
        "colab_type": "code",
        "colab": {
          "base_uri": "https://localhost:8080/",
          "height": 34
        },
        "outputId": "55eaed95-26c6-472f-be64-469753f0e57e"
      },
      "cell_type": "code",
      "source": [
        "learn.predict(\"Dreamer detained after speaking out may be deported\")"
      ],
      "execution_count": 106,
      "outputs": [
        {
          "output_type": "execute_result",
          "data": {
            "text/plain": [
              "(Category FAKE, tensor(0), tensor([0.9741, 0.0259]))"
            ]
          },
          "metadata": {
            "tags": []
          },
          "execution_count": 106
        }
      ]
    },
    {
      "metadata": {
        "id": "1xywyGeT7a99",
        "colab_type": "code",
        "colab": {
          "base_uri": "https://localhost:8080/",
          "height": 34
        },
        "outputId": "19b9e2df-9457-443c-c24f-5c36fd160272"
      },
      "cell_type": "code",
      "source": [
        "learn.predict(\"U S  Secretary of State John F  Kerry said Monday that he will stop in Paris later this week \")"
      ],
      "execution_count": 117,
      "outputs": [
        {
          "output_type": "execute_result",
          "data": {
            "text/plain": [
              "(Category REAL, tensor(1), tensor([0.0189, 0.9811]))"
            ]
          },
          "metadata": {
            "tags": []
          },
          "execution_count": 117
        }
      ]
    },
    {
      "metadata": {
        "id": "PtU7knYn8epa",
        "colab_type": "code",
        "colab": {
          "base_uri": "https://localhost:8080/",
          "height": 34
        },
        "outputId": "50768fb5-127a-46bd-9e08-a3824604253b"
      },
      "cell_type": "code",
      "source": [
        "learn.predict(\" Climate change is real\")"
      ],
      "execution_count": 121,
      "outputs": [
        {
          "output_type": "execute_result",
          "data": {
            "text/plain": [
              "(Category FAKE, tensor(0), tensor([0.9308, 0.0692]))"
            ]
          },
          "metadata": {
            "tags": []
          },
          "execution_count": 121
        }
      ]
    },
    {
      "metadata": {
        "id": "kyQXAFSA92b3",
        "colab_type": "code",
        "colab": {}
      },
      "cell_type": "code",
      "source": [
        "learn.save(\"/content/drive/My Drive/apps/Colab Notebooks/fakereallast\")"
      ],
      "execution_count": 0,
      "outputs": []
    },
    {
      "metadata": {
        "id": "Iq3c4eiO-DXR",
        "colab_type": "code",
        "colab": {
          "base_uri": "https://localhost:8080/",
          "height": 54
        },
        "outputId": "f0db0586-fcf6-492b-d8e3-06e9bd45e041"
      },
      "cell_type": "code",
      "source": [
        "df['text'][4434]"
      ],
      "execution_count": 123,
      "outputs": [
        {
          "output_type": "execute_result",
          "data": {
            "text/plain": [
              "'Washington  CNN  Donald Trump is attempting to crack Hillary Clinton s blue wall  And Clinton is hoping for a surge in Latino turnout fueled by opposition to Trump   The two candidates are making a last minute dash across swing states like Florida  Pennsylvania and North Carolina as the      presidential race enters its final hours  They ve also gone north to Michigan and New Hampshire to states Democrats have won in recent cycles but could flip this year   Here are the key states and signs to study as the night unfolds   Most plausible paths to victory for Trump start with holding onto two battlegrounds that Mitt Romney won four years ago    North Carolina and Arizona    and flipping three states President Barack Obama carried  Florida  Ohio and Iowa   A loss in any of the states would severely complicate Trump s already precarious path to     electoral votes  Though if Trump clawed back Pennsylvania or Michigan from the Democrats  who have won both electoral rich states six times in a row  North Carolina would be more expendable  A win in a state like Pennsylvania or Michigan would allow Trump to offset a loss in North Carolina and still have a shot at reaching       If that doesn t happen  holding North Carolina and Arizona  while reclaiming Florida  Ohio and Iowa from the Democrats    plus Maine s  nd District    would only get him to       Trump would need to tack on    more electoral votes somehow  New Hampshire s four and Nevada s six would get him there  Colorado  with nine electoral votes  Michigan with    and Pennsylvania with    are also possibilities   In his last    hours before Election Day  Trump has been pretty much everywhere  including Colorado  Michigan    even Minnesota    searching for the extra votes he needs   The key question for Clinton is whether her  blue wall  of Democratic leaning states on the Great Lakes    Pennsylvania  Michigan and Wisconsin    will hold   Trump has targeted all three  but Clinton has consistently led polls in all three states  However  most voters in Michigan and Pennsylvania cast their ballots on Election Day    which means her campaign hasn t built the early voting advantage already in place elsewhere   If Clinton can do that and pick up just one of North Carolina  Florida or Ohio  she s all but guaranteed to win   If she can t win one of those three states  she ll need to hold Virginia  vote by mail Colorado  New Hampshire and Nevada    where Democrats have already built a hefty early voting edge   If Clinton wins  her coalition will consist of women  college educated voters and a swell of new Latino voters   In early voting in states like Nevada  and Florida  there s already evidence of burgeoning Latino turnout  This is best witnessed by the over        people who voted in Nevada Friday  with pictures of long lines and extended hours at a Latino grocery store in Clark County   Many first time voters  polls show  are turning out to oppose Trump  And Democrats are bullish that Latinos have been under polled through the entire      election cycle   For Reince Priebus  the Republican National Committee chairman  this is a ghost of elections past  After the      race  the RNC warned that the party needed to do more to court Latino voters  A nominee who roundly rejected that advice could be the reason the party loses a third consecutive presidential race   Just as Trump s attacks on Mexican immigrants have alienated Latino voters  his attacks on women and allegations of sexual assault have helped Clinton to a large lead among female voters  Clinton s campaign has highlighted Trump s most derogatory remarks in TV ads aimed at moderate  suburban women    a constituency that has helped Republican nominees in years past  If she succeeds  it would limit Trump s strengths to rural areas   Trump s biggest strength is his overwhelming support from disaffected white voters    particularly men  and especially those without college degrees   His campaign has long argued that those voters    many of them independent or Democrats who buy into Trump s protectionist stance on trade    will carry him on Election Day   For this to happen  Trump will also need core Democratic voters to stay at home  as well   Already  Trump appears poised to win Iowa  and has polled ahead of Clinton in Ohio  He s hoping to win enough blue collar Democrats in Pennsylvania or Michigan to win at least one of those states   Michigan  in particular  emerged as a tempting target in the campaign s closing days    a state hard hit by the trade deals Trump bemoans  Clinton s campaign raced to play defense  dispatching the former secretary of state there  as well as President Barack Obama  for last minute rallies   Among Democrats  biggest concerns has been whether African American voters    a reliably left leaning constituency    will turn out in numbers anywhere close to their support for Obama in      and        If the answer is no  it could hobble Clinton in key states    particularly Florida and North Carolina   Obama is helping carry Clinton s load with black voters  In a call to Tom Joyner s radio show  he argued that participating in this election is just as much about him as it is about Clinton    And I know that there are a lot of people in barbershops and beauty salons  you know  in the neighborhoods who are saying to themselves  We love Barack  we love    we especially love Michelle    and so  you know  it was exciting and now we re not excited as much    he said   You know what  I need everybody to understand that everything we ve done is dependent on me being able to pass the baton to somebody who believes in the same things I believe in    Since Trump clinched the GOP nomination in May  Republican Senate and House candidates have been forced to answer for everything he has said    from his attacks on a Gold Star family and an Indiana born judge s heritage to his rejection of conservative orthodoxy   As soon as the election ends  Capitol Hill Republicans    especially if they retain control of both the House and Senate    will regain power   The party will have to decide just what to do with Trump s rejection of free trade  his calls for a decreased US role overseas and his criticism of GOP congressional leaders    whether he wins or loses   But adopting some of Trump s policy planks while rejecting his political style might not help much after an election driven by the candidates  personalities   For a nation divided by a long  bitter contest  this could be the most important question of all  Will the loser concede    and how will he or she do it   Trump and Clinton are both historically unpopular presidential nominees  Half the country thinks Clinton is a crook  and the other half thinks Trump is a racist and misogynist   And Trump  in particular  has cast the election as rigged    calling into question whether ballots that are mailed in will be counted  playing up inaccurate reports of voter irregularities and claiming that voter fraud is pervasive   The loser will play a crucial role in legitimizing the victor    or delegitimizing the winner from the outset '"
            ]
          },
          "metadata": {
            "tags": []
          },
          "execution_count": 123
        }
      ]
    },
    {
      "metadata": {
        "id": "Kf2EQj0Q-apD",
        "colab_type": "code",
        "colab": {
          "base_uri": "https://localhost:8080/",
          "height": 54
        },
        "outputId": "12fe8c6b-439c-422c-b3c5-5b86cd995b31"
      },
      "cell_type": "code",
      "source": [
        "df['text'][3671]"
      ],
      "execution_count": 125,
      "outputs": [
        {
          "output_type": "execute_result",
          "data": {
            "text/plain": [
              "'Whoever dubbed Tuesday  April    the  Acela Primary   because the five states that held primaries on that day coincide with the route of Amtrak s fastest carrier  needs a refresher in how trains and Republican presidential hopefuls run   The Washington to Boston Acela service is known for the three things  speed   quiet cars  and higher fares   You won t find those first two traits   swiftness and silence   in this boisterous  time consuming GOP affair  Expensive  yes  but not a joy ride   Here are four takeaways  now that the Republican local has completed its northeastern course   Trump Towered  I ve kept struggling with a way to best characterize Donald Trump s roll   New York last week  Connecticut  Delaware  Maryland  Pennsylvania and Rhode Island all this week   One thought  Trump      looks a lot like the American map circa the mid      s  He s conquered    of the    original colonies  New Jersey votes on June     plus most of the southeast  Except for a few states here and there  Trump controls the American continent east of the Mississippi River   But now the race moves west  First up  Indiana  on May    more on that in a moment   A week later  West Virginia and Nebraska   After that  the GOP field spends quality time on the West Coast   two weeks in Oregon and Washington   before a final push in California  Montana  New Mexico  South Dakota and the aforementioned New Jersey   The question  Trump has momentum as he steps off the Acela  Then again  so too did Texas Sen  Ted Cruz after he rolled Trump in Wisconsin s April   primary   From this point forward to California  will it be  nomemtum  or  big mo  for The Donald   Isn t It Bromantic  You ve heard of Rudolph Valentino  but maybe not Jean Acker  She was Valentino s first wife   best known for supposedly locking him out of the bedroom on their wedding night  never consummating the marriage  yet suing for the legal right to  Mrs  Rudolph Valentino    The political marriage between Cruz and Ohio Gov  John Kasich  quicker even than Valentino and Acker s two month courtship  may not turn out to be as cinematic   But there is the matter of consummation   Cruz thinks Kasich intends to cede Indiana to the more conservative Texan  Kasich has told reporters he s not instructing his followers to switch to Cruz   It s anyone s guess as to whether Cruz and Kasich much care for each other  What I don t understand  why they felt the need to go public with their hasty nuptials  Other than the obvious reason  they both realize the urgency of the moment   far behind in delegates  needing to defeat Trump soon before he salts away the GOP nomination   It s funny how fast things can change in politics  we entered April with Trump looking wobbly  we ll exit the month with Cruz and Kasich resorting to a bromance that reeks of desperation   Hoosier Daddy  A word about campaigning in Indiana  home to a pivotal presidential contest and a contentious GOP Senate primary both of which are playing out along  establishment outsider  lines  if I were working the basketball crazy state  I d want one of three individuals by my side   basketball legend Larry Bird  former Indiana University Coach Bobby Knight  or the kid who drained the jumper at the end of  Hoosiers    OK  Jimmy Chitwood doesn t exist in real life and  Larry Legend  isn t all that political  though he once snubbed Ronald Reagan   That leaves us with Coach Knight  who s appearing with Trump at a Wednesday evening rally in Indianapolis   It s not the first sports endorsement to come Trump s way   Buffalo Bills Coach Rex Ryan warmed up the crowd for him at a rally the day before New York s primary   And it begs the question of pro Trump star power other than the  Apprentice  and Gary Busey  Wayne Newton and Jon Voight   With polls showing Trump holding a narrow lead among Hoosiers  Cruz could use some star power of his own   better yet  maybe a Gene Hackman pep talk   California  The Chicago Cubs have waited    years for a World Series appearance      years for a title  California s absence from the national political picture seems just as pronounced   Post Acela Primary  Trump s delegate count has risen well into the     s  That puts him three fourths of the way to        which is now officially out of reach for Cruz  until after a first ballot in Cleveland  when pledged delegates can begin switching their votes    Here s why California matters more with each passing week  Trump can t win without taking a gluttonous portion of the Golden State s     GOP delegates  to get to       on June    I m guessing he ll have to score     delegates   as such  it s the  nevertrump movement s last chance to derail him   In California Amtrak parlance  that primary would be a ticket on the Coast Starlight   a three day ride along the West Coast that isn t fast and isn t cheap   And unlike Tuesday s Acela experience  maybe the only real hope of throwing Trump from the train   Bill Whalen is a research fellow at Stanford University s Hoover Institution  where he analyzes California and national politics  He also blogs daily on the      election at www adayattheracesblog com  Follow him on Twitter  hooverwhalen '"
            ]
          },
          "metadata": {
            "tags": []
          },
          "execution_count": 125
        }
      ]
    },
    {
      "metadata": {
        "id": "jWlCKND9-ikm",
        "colab_type": "code",
        "colab": {
          "base_uri": "https://localhost:8080/",
          "height": 34
        },
        "outputId": "469292f9-45ad-415f-ff57-514ecba87efd"
      },
      "cell_type": "code",
      "source": [
        "learn.predict(\"the  Acela Primary   because the five states that held primaries on that day coincide with the route of Amtrak s fastest carrier  needs a refresher in how trains and Republican presidential hopefuls run y\")"
      ],
      "execution_count": 129,
      "outputs": [
        {
          "output_type": "execute_result",
          "data": {
            "text/plain": [
              "(Category REAL, tensor(1), tensor([0.3685, 0.6315]))"
            ]
          },
          "metadata": {
            "tags": []
          },
          "execution_count": 129
        }
      ]
    },
    {
      "metadata": {
        "id": "dHEO4dRz-Lm7",
        "colab_type": "code",
        "colab": {
          "base_uri": "https://localhost:8080/",
          "height": 34
        },
        "outputId": "6d510c18-a4fb-4b0a-8f77-17be684141ad"
      },
      "cell_type": "code",
      "source": [
        "learn.predict(\"Washington  CNN  Donald Trump is attempting to crack Hillary Clinton s blue wall\") "
      ],
      "execution_count": 124,
      "outputs": [
        {
          "output_type": "execute_result",
          "data": {
            "text/plain": [
              "(Category FAKE, tensor(0), tensor([0.8238, 0.1762]))"
            ]
          },
          "metadata": {
            "tags": []
          },
          "execution_count": 124
        }
      ]
    }
  ]
}