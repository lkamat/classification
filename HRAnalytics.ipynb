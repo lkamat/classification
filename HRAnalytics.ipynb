{
  "nbformat": 4,
  "nbformat_minor": 0,
  "metadata": {
    "colab": {
      "name": "HRAnalytics.ipynb",
      "version": "0.3.2",
      "provenance": [],
      "include_colab_link": true
    },
    "kernelspec": {
      "name": "python3",
      "display_name": "Python 3"
    },
    "accelerator": "GPU"
  },
  "cells": [
    {
      "cell_type": "markdown",
      "metadata": {
        "id": "view-in-github",
        "colab_type": "text"
      },
      "source": [
        "<a href=\"https://colab.research.google.com/github/lkamat/classification/blob/master/HRAnalytics.ipynb\" target=\"_parent\"><img src=\"https://colab.research.google.com/assets/colab-badge.svg\" alt=\"Open In Colab\"/></a>"
      ]
    },
    {
      "metadata": {
        "id": "lJUDsql2WdRa",
        "colab_type": "code",
        "outputId": "dc41e223-3905-49e0-a5e2-66642aff2988",
        "colab": {
          "base_uri": "https://localhost:8080/",
          "height": 122
        }
      },
      "cell_type": "code",
      "source": [
        "from google.colab import drive\n",
        "drive.mount('/content/drive')"
      ],
      "execution_count": 0,
      "outputs": [
        {
          "output_type": "stream",
          "text": [
            "Go to this URL in a browser: https://accounts.google.com/o/oauth2/auth?client_id=947318989803-6bn6qk8qdgf4n4g3pfee6491hc0brc4i.apps.googleusercontent.com&redirect_uri=urn%3Aietf%3Awg%3Aoauth%3A2.0%3Aoob&scope=email%20https%3A%2F%2Fwww.googleapis.com%2Fauth%2Fdocs.test%20https%3A%2F%2Fwww.googleapis.com%2Fauth%2Fdrive%20https%3A%2F%2Fwww.googleapis.com%2Fauth%2Fdrive.photos.readonly%20https%3A%2F%2Fwww.googleapis.com%2Fauth%2Fpeopleapi.readonly&response_type=code\n",
            "\n",
            "Enter your authorization code:\n",
            "··········\n",
            "Mounted at /content/drive\n"
          ],
          "name": "stdout"
        }
      ]
    },
    {
      "metadata": {
        "id": "h7L3QYyhWrwO",
        "colab_type": "code",
        "colab": {}
      },
      "cell_type": "code",
      "source": [
        "import os\n",
        "os.chdir(\"drive/My Drive/apps/Colab Notebooks\")"
      ],
      "execution_count": 0,
      "outputs": []
    },
    {
      "metadata": {
        "id": "fwWAH9-xGTe8",
        "colab_type": "text"
      },
      "cell_type": "markdown",
      "source": [
        "Use predictive modelling capabilities to predict employee attrition on the IBM dataset.\n",
        "\n",
        "This notebook is structured as follows:\n",
        "\n",
        "Exploratory Data Analysis : In this section, we explore the dataset by taking a look at the feature distributions, how correlated one feature is to the other and create some Seaborn and Plotly visualisations\n",
        "Feature Engineering and Categorical Encoding : Conduct some feature engineering as well as encode all our categorical features into dummy variables\n",
        "Implementing Machine Learning models : We implement a Random Forest and a Gradient Boosted Model after which we look at feature importances from these respective models"
      ]
    },
    {
      "metadata": {
        "id": "30ogaDzXXJpz",
        "colab_type": "code",
        "outputId": "00ec27fb-3bc7-44f1-8d80-3c41a839f504",
        "colab": {
          "base_uri": "https://localhost:8080/",
          "height": 321
        }
      },
      "cell_type": "code",
      "source": [
        "import numpy as np \n",
        "import pandas as pd \n",
        "import seaborn as sns\n",
        "import matplotlib.pyplot as plt\n",
        "%matplotlib inline\n",
        "\n",
        "# Import statements required for Plotly \n",
        "import plotly.offline as py\n",
        "py.init_notebook_mode(connected=True)\n",
        "import plotly.graph_objs as go\n",
        "import plotly.tools as tls\n",
        "\n",
        "\n",
        "from sklearn.ensemble import RandomForestClassifier, GradientBoostingClassifier\n",
        "from sklearn.linear_model import LogisticRegression\n",
        "from sklearn.metrics import (accuracy_score, log_loss, classification_report)\n",
        "from imblearn.over_sampling import SMOTE\n",
        "import xgboost\n",
        "\n",
        "# Import and suppress warnings\n",
        "import warnings\n",
        "warnings.filterwarnings('ignore')\n",
        "\n",
        "\n",
        "#Load the data\n",
        "hr_data = pd.read_csv(\"HR.csv\")\n",
        "hr_data.head(5)\n",
        "\n",
        "\n"
      ],
      "execution_count": 0,
      "outputs": [
        {
          "output_type": "display_data",
          "data": {
            "text/vnd.plotly.v1+html": "<script type=\"text/javascript\">window.PlotlyConfig = {MathJaxConfig: 'local'};</script><script type=\"text/javascript\">if (window.MathJax) {MathJax.Hub.Config({SVG: {font: \"STIX-Web\"}});}</script><script>requirejs.config({paths: { 'plotly': ['https://cdn.plot.ly/plotly-latest.min']},});if(!window._Plotly) {require(['plotly'],function(plotly) {window._Plotly=plotly;});}</script>",
            "text/html": [
              "<script type=\"text/javascript\">window.PlotlyConfig = {MathJaxConfig: 'local'};</script><script type=\"text/javascript\">if (window.MathJax) {MathJax.Hub.Config({SVG: {font: \"STIX-Web\"}});}</script><script>requirejs.config({paths: { 'plotly': ['https://cdn.plot.ly/plotly-latest.min']},});if(!window._Plotly) {require(['plotly'],function(plotly) {window._Plotly=plotly;});}</script>"
            ]
          },
          "metadata": {
            "tags": []
          }
        },
        {
          "output_type": "execute_result",
          "data": {
            "text/html": [
              "<div>\n",
              "<style scoped>\n",
              "    .dataframe tbody tr th:only-of-type {\n",
              "        vertical-align: middle;\n",
              "    }\n",
              "\n",
              "    .dataframe tbody tr th {\n",
              "        vertical-align: top;\n",
              "    }\n",
              "\n",
              "    .dataframe thead th {\n",
              "        text-align: right;\n",
              "    }\n",
              "</style>\n",
              "<table border=\"1\" class=\"dataframe\">\n",
              "  <thead>\n",
              "    <tr style=\"text-align: right;\">\n",
              "      <th></th>\n",
              "      <th>Age</th>\n",
              "      <th>Attrition</th>\n",
              "      <th>BusinessTravel</th>\n",
              "      <th>DailyRate</th>\n",
              "      <th>Department</th>\n",
              "      <th>DistanceFromHome</th>\n",
              "      <th>Education</th>\n",
              "      <th>EducationField</th>\n",
              "      <th>EmployeeCount</th>\n",
              "      <th>EmployeeNumber</th>\n",
              "      <th>...</th>\n",
              "      <th>RelationshipSatisfaction</th>\n",
              "      <th>StandardHours</th>\n",
              "      <th>StockOptionLevel</th>\n",
              "      <th>TotalWorkingYears</th>\n",
              "      <th>TrainingTimesLastYear</th>\n",
              "      <th>WorkLifeBalance</th>\n",
              "      <th>YearsAtCompany</th>\n",
              "      <th>YearsInCurrentRole</th>\n",
              "      <th>YearsSinceLastPromotion</th>\n",
              "      <th>YearsWithCurrManager</th>\n",
              "    </tr>\n",
              "  </thead>\n",
              "  <tbody>\n",
              "    <tr>\n",
              "      <th>0</th>\n",
              "      <td>41</td>\n",
              "      <td>Yes</td>\n",
              "      <td>Travel_Rarely</td>\n",
              "      <td>1102</td>\n",
              "      <td>Sales</td>\n",
              "      <td>1</td>\n",
              "      <td>2</td>\n",
              "      <td>Life Sciences</td>\n",
              "      <td>1</td>\n",
              "      <td>1</td>\n",
              "      <td>...</td>\n",
              "      <td>1</td>\n",
              "      <td>80</td>\n",
              "      <td>0</td>\n",
              "      <td>8</td>\n",
              "      <td>0</td>\n",
              "      <td>1</td>\n",
              "      <td>6</td>\n",
              "      <td>4</td>\n",
              "      <td>0</td>\n",
              "      <td>5</td>\n",
              "    </tr>\n",
              "    <tr>\n",
              "      <th>1</th>\n",
              "      <td>49</td>\n",
              "      <td>No</td>\n",
              "      <td>Travel_Frequently</td>\n",
              "      <td>279</td>\n",
              "      <td>Research &amp; Development</td>\n",
              "      <td>8</td>\n",
              "      <td>1</td>\n",
              "      <td>Life Sciences</td>\n",
              "      <td>1</td>\n",
              "      <td>2</td>\n",
              "      <td>...</td>\n",
              "      <td>4</td>\n",
              "      <td>80</td>\n",
              "      <td>1</td>\n",
              "      <td>10</td>\n",
              "      <td>3</td>\n",
              "      <td>3</td>\n",
              "      <td>10</td>\n",
              "      <td>7</td>\n",
              "      <td>1</td>\n",
              "      <td>7</td>\n",
              "    </tr>\n",
              "    <tr>\n",
              "      <th>2</th>\n",
              "      <td>37</td>\n",
              "      <td>Yes</td>\n",
              "      <td>Travel_Rarely</td>\n",
              "      <td>1373</td>\n",
              "      <td>Research &amp; Development</td>\n",
              "      <td>2</td>\n",
              "      <td>2</td>\n",
              "      <td>Other</td>\n",
              "      <td>1</td>\n",
              "      <td>4</td>\n",
              "      <td>...</td>\n",
              "      <td>2</td>\n",
              "      <td>80</td>\n",
              "      <td>0</td>\n",
              "      <td>7</td>\n",
              "      <td>3</td>\n",
              "      <td>3</td>\n",
              "      <td>0</td>\n",
              "      <td>0</td>\n",
              "      <td>0</td>\n",
              "      <td>0</td>\n",
              "    </tr>\n",
              "    <tr>\n",
              "      <th>3</th>\n",
              "      <td>33</td>\n",
              "      <td>No</td>\n",
              "      <td>Travel_Frequently</td>\n",
              "      <td>1392</td>\n",
              "      <td>Research &amp; Development</td>\n",
              "      <td>3</td>\n",
              "      <td>4</td>\n",
              "      <td>Life Sciences</td>\n",
              "      <td>1</td>\n",
              "      <td>5</td>\n",
              "      <td>...</td>\n",
              "      <td>3</td>\n",
              "      <td>80</td>\n",
              "      <td>0</td>\n",
              "      <td>8</td>\n",
              "      <td>3</td>\n",
              "      <td>3</td>\n",
              "      <td>8</td>\n",
              "      <td>7</td>\n",
              "      <td>3</td>\n",
              "      <td>0</td>\n",
              "    </tr>\n",
              "    <tr>\n",
              "      <th>4</th>\n",
              "      <td>27</td>\n",
              "      <td>No</td>\n",
              "      <td>Travel_Rarely</td>\n",
              "      <td>591</td>\n",
              "      <td>Research &amp; Development</td>\n",
              "      <td>2</td>\n",
              "      <td>1</td>\n",
              "      <td>Medical</td>\n",
              "      <td>1</td>\n",
              "      <td>7</td>\n",
              "      <td>...</td>\n",
              "      <td>4</td>\n",
              "      <td>80</td>\n",
              "      <td>1</td>\n",
              "      <td>6</td>\n",
              "      <td>3</td>\n",
              "      <td>3</td>\n",
              "      <td>2</td>\n",
              "      <td>2</td>\n",
              "      <td>2</td>\n",
              "      <td>2</td>\n",
              "    </tr>\n",
              "  </tbody>\n",
              "</table>\n",
              "<p>5 rows × 35 columns</p>\n",
              "</div>"
            ],
            "text/plain": [
              "   Age Attrition     BusinessTravel  DailyRate              Department  \\\n",
              "0   41       Yes      Travel_Rarely       1102                   Sales   \n",
              "1   49        No  Travel_Frequently        279  Research & Development   \n",
              "2   37       Yes      Travel_Rarely       1373  Research & Development   \n",
              "3   33        No  Travel_Frequently       1392  Research & Development   \n",
              "4   27        No      Travel_Rarely        591  Research & Development   \n",
              "\n",
              "   DistanceFromHome  Education EducationField  EmployeeCount  EmployeeNumber  \\\n",
              "0                 1          2  Life Sciences              1               1   \n",
              "1                 8          1  Life Sciences              1               2   \n",
              "2                 2          2          Other              1               4   \n",
              "3                 3          4  Life Sciences              1               5   \n",
              "4                 2          1        Medical              1               7   \n",
              "\n",
              "           ...           RelationshipSatisfaction StandardHours  \\\n",
              "0          ...                                  1            80   \n",
              "1          ...                                  4            80   \n",
              "2          ...                                  2            80   \n",
              "3          ...                                  3            80   \n",
              "4          ...                                  4            80   \n",
              "\n",
              "   StockOptionLevel  TotalWorkingYears  TrainingTimesLastYear WorkLifeBalance  \\\n",
              "0                 0                  8                      0               1   \n",
              "1                 1                 10                      3               3   \n",
              "2                 0                  7                      3               3   \n",
              "3                 0                  8                      3               3   \n",
              "4                 1                  6                      3               3   \n",
              "\n",
              "   YearsAtCompany YearsInCurrentRole  YearsSinceLastPromotion  \\\n",
              "0               6                  4                        0   \n",
              "1              10                  7                        1   \n",
              "2               0                  0                        0   \n",
              "3               8                  7                        3   \n",
              "4               2                  2                        2   \n",
              "\n",
              "   YearsWithCurrManager  \n",
              "0                     5  \n",
              "1                     7  \n",
              "2                     0  \n",
              "3                     0  \n",
              "4                     2  \n",
              "\n",
              "[5 rows x 35 columns]"
            ]
          },
          "metadata": {
            "tags": []
          },
          "execution_count": 29
        }
      ]
    },
    {
      "metadata": {
        "id": "B76GeG9gIC1A",
        "colab_type": "code",
        "outputId": "df2bd532-66c9-4ac1-e6b7-07ab30ffb2f2",
        "colab": {
          "base_uri": "https://localhost:8080/",
          "height": 85
        }
      },
      "cell_type": "code",
      "source": [
        "# Check the number of employees by the education field\n",
        "hr_data['Department'].value_counts()"
      ],
      "execution_count": 0,
      "outputs": [
        {
          "output_type": "execute_result",
          "data": {
            "text/plain": [
              "Research & Development    961\n",
              "Sales                     446\n",
              "Human Resources            63\n",
              "Name: Department, dtype: int64"
            ]
          },
          "metadata": {
            "tags": []
          },
          "execution_count": 80
        }
      ]
    },
    {
      "metadata": {
        "id": "-OalN43WIiY7",
        "colab_type": "code",
        "outputId": "ed8de1c0-c96c-4a74-fa81-7bb8ba3272ad",
        "colab": {
          "base_uri": "https://localhost:8080/",
          "height": 378
        }
      },
      "cell_type": "code",
      "source": [
        "sns.set(style='darkgrid')\n",
        "sns.countplot(x = 'EducationField',\n",
        "              data = hr_data,\n",
        "              order = hr_data['EducationField'].value_counts().index)"
      ],
      "execution_count": 0,
      "outputs": [
        {
          "output_type": "execute_result",
          "data": {
            "text/plain": [
              "<matplotlib.axes._subplots.AxesSubplot at 0x7f28ceca3a20>"
            ]
          },
          "metadata": {
            "tags": []
          },
          "execution_count": 38
        },
        {
          "output_type": "display_data",
          "data": {
            "image/png": "[encoded data removed]",
            "text/plain": [
              "<Figure size 576x396 with 1 Axes>"
            ]
          },
          "metadata": {
            "tags": []
          }
        }
      ]
    },
    {
      "metadata": {
        "id": "AenFegruf446",
        "colab_type": "code",
        "outputId": "b5dc59e8-d532-400f-9963-4481141d0518",
        "colab": {
          "base_uri": "https://localhost:8080/",
          "height": 34
        }
      },
      "cell_type": "code",
      "source": [
        "# Equivalent way to get average_salary\n",
        "group = hr_data.groupby('Department')\n",
        "group"
      ],
      "execution_count": 0,
      "outputs": [
        {
          "output_type": "execute_result",
          "data": {
            "text/plain": [
              "<pandas.core.groupby.DataFrameGroupBy object at 0x7f28ccec2860>"
            ]
          },
          "metadata": {
            "tags": []
          },
          "execution_count": 78
        }
      ]
    },
    {
      "metadata": {
        "id": "gyhmvAPvud8r",
        "colab_type": "code",
        "outputId": "65a8480b-bcb2-4975-ac26-b206a31beb61",
        "colab": {
          "base_uri": "https://localhost:8080/",
          "height": 406
        }
      },
      "cell_type": "code",
      "source": [
        "finance_df = group.get_group('Human Resources')\n",
        "print('Average daily rate in HR department : {:.2f} dollars'.format(\n",
        "        finance_df['DailyRate'].mean()))\n",
        "\n",
        "finance_df['DailyRate'].plot(kind='hist', bins=50, figsize=(12, 6), title='HR Department');"
      ],
      "execution_count": 0,
      "outputs": [
        {
          "output_type": "stream",
          "text": [
            "Average daily rate in HR department : 751.54 dollars\n"
          ],
          "name": "stdout"
        },
        {
          "output_type": "display_data",
          "data": {
            "image/png": "[encoded data removed]",
            "text/plain": [
              "<Figure size 864x432 with 1 Axes>"
            ]
          },
          "metadata": {
            "tags": []
          }
        }
      ]
    },
    {
      "metadata": {
        "id": "78_r217Zv4Nz",
        "colab_type": "code",
        "outputId": "8675cad8-4b58-4c61-b8f5-f00b3481602e",
        "colab": {
          "base_uri": "https://localhost:8080/",
          "height": 374
        }
      },
      "cell_type": "code",
      "source": [
        "# Equivalent way to get average_salary\n",
        "group = hr_data['Age'].groupby(hr_data['Department'])\n",
        "average_salary = group.mean().sort_values(ascending=False)\n",
        "\n",
        "average_salary.plot(kind='bar', figsize=(12, 6), color='k', alpha=0.5, rot=0);\n",
        "plt.xlabel(\"\")\n",
        "plt.show()"
      ],
      "execution_count": 0,
      "outputs": [
        {
          "output_type": "display_data",
          "data": {
            "image/png": "[encoded data removed]",
            "text/plain": [
              "<Figure size 864x432 with 1 Axes>"
            ]
          },
          "metadata": {
            "tags": []
          }
        }
      ]
    },
    {
      "metadata": {
        "id": "8d6IpUUChge7",
        "colab_type": "code",
        "outputId": "c76abb98-b661-4565-b046-f26e552db002",
        "colab": {
          "base_uri": "https://localhost:8080/",
          "height": 378
        }
      },
      "cell_type": "code",
      "source": [
        "sns.set(style='darkgrid')\n",
        "sns.countplot(x = 'Age',\n",
        "              hue= 'Attrition',\n",
        "              data = hr_data,\n",
        "              )"
      ],
      "execution_count": 0,
      "outputs": [
        {
          "output_type": "execute_result",
          "data": {
            "text/plain": [
              "<matplotlib.axes._subplots.AxesSubplot at 0x7f28cd2787b8>"
            ]
          },
          "metadata": {
            "tags": []
          },
          "execution_count": 48
        },
        {
          "output_type": "display_data",
          "data": {
            "image/png": "[encoded data removed]",
            "text/plain": [
              "<Figure size 576x396 with 1 Axes>"
            ]
          },
          "metadata": {
            "tags": []
          }
        }
      ]
    },
    {
      "metadata": {
        "id": "KlgKZAoniffw",
        "colab_type": "code",
        "outputId": "a02cd191-0188-4c8a-9173-eb63727e415d",
        "colab": {
          "base_uri": "https://localhost:8080/",
          "height": 364
        }
      },
      "cell_type": "code",
      "source": [
        "hr_data['Age'].plot.hist()"
      ],
      "execution_count": 0,
      "outputs": [
        {
          "output_type": "execute_result",
          "data": {
            "text/plain": [
              "<matplotlib.axes._subplots.AxesSubplot at 0x7f28cccf5e80>"
            ]
          },
          "metadata": {
            "tags": []
          },
          "execution_count": 49
        },
        {
          "output_type": "display_data",
          "data": {
            "image/png": "[encoded data removed]",
            "text/plain": [
              "<Figure size 576x396 with 1 Axes>"
            ]
          },
          "metadata": {
            "tags": []
          }
        }
      ]
    },
    {
      "metadata": {
        "id": "I7JoRM4aGPh_",
        "colab_type": "text"
      },
      "cell_type": "markdown",
      "source": [
        ""
      ]
    },
    {
      "metadata": {
        "id": "fTpy5Qa2ZgjO",
        "colab_type": "code",
        "outputId": "fcb4a306-72ab-4a0f-ae6f-47bc42a12627",
        "colab": {
          "base_uri": "https://localhost:8080/",
          "height": 629
        }
      },
      "cell_type": "code",
      "source": [
        "#Missing values check\n",
        "hr_data.isnull().sum()"
      ],
      "execution_count": 0,
      "outputs": [
        {
          "output_type": "execute_result",
          "data": {
            "text/plain": [
              "Age                         0\n",
              "Attrition                   0\n",
              "BusinessTravel              0\n",
              "DailyRate                   0\n",
              "Department                  0\n",
              "DistanceFromHome            0\n",
              "Education                   0\n",
              "EducationField              0\n",
              "EmployeeCount               0\n",
              "EmployeeNumber              0\n",
              "EnvironmentSatisfaction     0\n",
              "Gender                      0\n",
              "HourlyRate                  0\n",
              "JobInvolvement              0\n",
              "JobLevel                    0\n",
              "JobRole                     0\n",
              "JobSatisfaction             0\n",
              "MaritalStatus               0\n",
              "MonthlyIncome               0\n",
              "MonthlyRate                 0\n",
              "NumCompaniesWorked          0\n",
              "Over18                      0\n",
              "OverTime                    0\n",
              "PercentSalaryHike           0\n",
              "PerformanceRating           0\n",
              "RelationshipSatisfaction    0\n",
              "StandardHours               0\n",
              "StockOptionLevel            0\n",
              "TotalWorkingYears           0\n",
              "TrainingTimesLastYear       0\n",
              "WorkLifeBalance             0\n",
              "YearsAtCompany              0\n",
              "YearsInCurrentRole          0\n",
              "YearsSinceLastPromotion     0\n",
              "YearsWithCurrManager        0\n",
              "dtype: int64"
            ]
          },
          "metadata": {
            "tags": []
          },
          "execution_count": 9
        }
      ]
    },
    {
      "metadata": {
        "id": "Tj1gDyF4Z1gB",
        "colab_type": "code",
        "outputId": "4f979d15-197f-4bd6-c100-cad131dc7883",
        "colab": {
          "base_uri": "https://localhost:8080/",
          "height": 629
        }
      },
      "cell_type": "code",
      "source": [
        "#Check the structure of dataset\n",
        "hr_data.dtypes"
      ],
      "execution_count": 0,
      "outputs": [
        {
          "output_type": "execute_result",
          "data": {
            "text/plain": [
              "Age                          int64\n",
              "Attrition                   object\n",
              "BusinessTravel              object\n",
              "DailyRate                    int64\n",
              "Department                  object\n",
              "DistanceFromHome             int64\n",
              "Education                    int64\n",
              "EducationField              object\n",
              "EmployeeCount                int64\n",
              "EmployeeNumber               int64\n",
              "EnvironmentSatisfaction      int64\n",
              "Gender                      object\n",
              "HourlyRate                   int64\n",
              "JobInvolvement               int64\n",
              "JobLevel                     int64\n",
              "JobRole                     object\n",
              "JobSatisfaction              int64\n",
              "MaritalStatus               object\n",
              "MonthlyIncome                int64\n",
              "MonthlyRate                  int64\n",
              "NumCompaniesWorked           int64\n",
              "Over18                      object\n",
              "OverTime                    object\n",
              "PercentSalaryHike            int64\n",
              "PerformanceRating            int64\n",
              "RelationshipSatisfaction     int64\n",
              "StandardHours                int64\n",
              "StockOptionLevel             int64\n",
              "TotalWorkingYears            int64\n",
              "TrainingTimesLastYear        int64\n",
              "WorkLifeBalance              int64\n",
              "YearsAtCompany               int64\n",
              "YearsInCurrentRole           int64\n",
              "YearsSinceLastPromotion      int64\n",
              "YearsWithCurrManager         int64\n",
              "dtype: object"
            ]
          },
          "metadata": {
            "tags": []
          },
          "execution_count": 10
        }
      ]
    },
    {
      "metadata": {
        "id": "j8EG0T2kbpXo",
        "colab_type": "code",
        "outputId": "c84c260a-0ef4-4e51-e596-87e6c32486c5",
        "colab": {
          "base_uri": "https://localhost:8080/",
          "height": 204
        }
      },
      "cell_type": "code",
      "source": [
        "#Columns of dataset\n",
        "hr_data.columns"
      ],
      "execution_count": 0,
      "outputs": [
        {
          "output_type": "execute_result",
          "data": {
            "text/plain": [
              "Index(['Age', 'Attrition', 'BusinessTravel', 'DailyRate', 'Department',\n",
              "       'DistanceFromHome', 'Education', 'EducationField', 'EmployeeCount',\n",
              "       'EmployeeNumber', 'EnvironmentSatisfaction', 'Gender', 'HourlyRate',\n",
              "       'JobInvolvement', 'JobLevel', 'JobRole', 'JobSatisfaction',\n",
              "       'MaritalStatus', 'MonthlyIncome', 'MonthlyRate', 'NumCompaniesWorked',\n",
              "       'Over18', 'OverTime', 'PercentSalaryHike', 'PerformanceRating',\n",
              "       'RelationshipSatisfaction', 'StandardHours', 'StockOptionLevel',\n",
              "       'TotalWorkingYears', 'TrainingTimesLastYear', 'WorkLifeBalance',\n",
              "       'YearsAtCompany', 'YearsInCurrentRole', 'YearsSinceLastPromotion',\n",
              "       'YearsWithCurrManager'],\n",
              "      dtype='object')"
            ]
          },
          "metadata": {
            "tags": []
          },
          "execution_count": 11
        }
      ]
    },
    {
      "metadata": {
        "id": "vHdbH0B4cFOm",
        "colab_type": "code",
        "colab": {}
      },
      "cell_type": "code",
      "source": [
        "#Lets create a dataframe with only numeric variables\n",
        "hr_data_num = hr_data[['Age','DailyRate','DistanceFromHome', 'Education','EmployeeNumber', \n",
        "                       'EnvironmentSatisfaction', 'HourlyRate',                     \n",
        "                       'JobInvolvement', 'JobLevel','JobSatisfaction','MonthlyIncome', \n",
        "                        'MonthlyRate', 'NumCompaniesWorked','PercentSalaryHike', 'PerformanceRating', \n",
        "                       'RelationshipSatisfaction', 'StockOptionLevel',\n",
        "                       'TotalWorkingYears', 'TrainingTimesLastYear', 'WorkLifeBalance',\n",
        "                       'YearsAtCompany', 'YearsInCurrentRole', 'YearsSinceLastPromotion',\n",
        "                       'YearsWithCurrManager']].copy()"
      ],
      "execution_count": 0,
      "outputs": []
    },
    {
      "metadata": {
        "id": "3Q5gZdPpcMlj",
        "colab_type": "code",
        "outputId": "3c1e5bbc-b662-4d98-ba3c-cdefb0e3a14f",
        "colab": {
          "base_uri": "https://localhost:8080/",
          "height": 979
        }
      },
      "cell_type": "code",
      "source": [
        "import matplotlib.pyplot as plt\n",
        "import seaborn as sns\n",
        "%matplotlib inline\n",
        "\n",
        "plt.figure(figsize= (10,10), dpi=100)\n",
        "sns.heatmap(hr_data_num.corr())"
      ],
      "execution_count": 0,
      "outputs": [
        {
          "output_type": "execute_result",
          "data": {
            "text/plain": [
              "<matplotlib.axes._subplots.AxesSubplot at 0x7f28d9b6e6d8>"
            ]
          },
          "metadata": {
            "tags": []
          },
          "execution_count": 13
        },
        {
          "output_type": "display_data",
          "data": {
            "image/png": "[encoded data removed]",
            "text/plain": [
              "<Figure size 1000x1000 with 2 Axes>"
            ]
          },
          "metadata": {
            "tags": []
          }
        }
      ]
    },
    {
      "metadata": {
        "id": "MxsX03S9cRgA",
        "colab_type": "code",
        "outputId": "949f094b-fcf6-459d-eeca-06b973d5d353",
        "colab": {
          "base_uri": "https://localhost:8080/",
          "height": 204
        }
      },
      "cell_type": "code",
      "source": [
        "#Let's remove the strongly correlated variables\n",
        "hr_data_uc = hr_data_num[['Age','DailyRate','DistanceFromHome', \n",
        "                       'EnvironmentSatisfaction', 'HourlyRate',                     \n",
        "                       'JobInvolvement', 'JobLevel','JobSatisfaction', \n",
        "                       'RelationshipSatisfaction', 'StockOptionLevel',\n",
        "                        'TrainingTimesLastYear']].copy()\n",
        "\n",
        "hr_data_uc.head()"
      ],
      "execution_count": 0,
      "outputs": [
        {
          "output_type": "execute_result",
          "data": {
            "text/html": [
              "<div>\n",
              "<style scoped>\n",
              "    .dataframe tbody tr th:only-of-type {\n",
              "        vertical-align: middle;\n",
              "    }\n",
              "\n",
              "    .dataframe tbody tr th {\n",
              "        vertical-align: top;\n",
              "    }\n",
              "\n",
              "    .dataframe thead th {\n",
              "        text-align: right;\n",
              "    }\n",
              "</style>\n",
              "<table border=\"1\" class=\"dataframe\">\n",
              "  <thead>\n",
              "    <tr style=\"text-align: right;\">\n",
              "      <th></th>\n",
              "      <th>Age</th>\n",
              "      <th>DailyRate</th>\n",
              "      <th>DistanceFromHome</th>\n",
              "      <th>EnvironmentSatisfaction</th>\n",
              "      <th>HourlyRate</th>\n",
              "      <th>JobInvolvement</th>\n",
              "      <th>JobLevel</th>\n",
              "      <th>JobSatisfaction</th>\n",
              "      <th>RelationshipSatisfaction</th>\n",
              "      <th>StockOptionLevel</th>\n",
              "      <th>TrainingTimesLastYear</th>\n",
              "    </tr>\n",
              "  </thead>\n",
              "  <tbody>\n",
              "    <tr>\n",
              "      <th>0</th>\n",
              "      <td>41</td>\n",
              "      <td>1102</td>\n",
              "      <td>1</td>\n",
              "      <td>2</td>\n",
              "      <td>94</td>\n",
              "      <td>3</td>\n",
              "      <td>2</td>\n",
              "      <td>4</td>\n",
              "      <td>1</td>\n",
              "      <td>0</td>\n",
              "      <td>0</td>\n",
              "    </tr>\n",
              "    <tr>\n",
              "      <th>1</th>\n",
              "      <td>49</td>\n",
              "      <td>279</td>\n",
              "      <td>8</td>\n",
              "      <td>3</td>\n",
              "      <td>61</td>\n",
              "      <td>2</td>\n",
              "      <td>2</td>\n",
              "      <td>2</td>\n",
              "      <td>4</td>\n",
              "      <td>1</td>\n",
              "      <td>3</td>\n",
              "    </tr>\n",
              "    <tr>\n",
              "      <th>2</th>\n",
              "      <td>37</td>\n",
              "      <td>1373</td>\n",
              "      <td>2</td>\n",
              "      <td>4</td>\n",
              "      <td>92</td>\n",
              "      <td>2</td>\n",
              "      <td>1</td>\n",
              "      <td>3</td>\n",
              "      <td>2</td>\n",
              "      <td>0</td>\n",
              "      <td>3</td>\n",
              "    </tr>\n",
              "    <tr>\n",
              "      <th>3</th>\n",
              "      <td>33</td>\n",
              "      <td>1392</td>\n",
              "      <td>3</td>\n",
              "      <td>4</td>\n",
              "      <td>56</td>\n",
              "      <td>3</td>\n",
              "      <td>1</td>\n",
              "      <td>3</td>\n",
              "      <td>3</td>\n",
              "      <td>0</td>\n",
              "      <td>3</td>\n",
              "    </tr>\n",
              "    <tr>\n",
              "      <th>4</th>\n",
              "      <td>27</td>\n",
              "      <td>591</td>\n",
              "      <td>2</td>\n",
              "      <td>1</td>\n",
              "      <td>40</td>\n",
              "      <td>3</td>\n",
              "      <td>1</td>\n",
              "      <td>2</td>\n",
              "      <td>4</td>\n",
              "      <td>1</td>\n",
              "      <td>3</td>\n",
              "    </tr>\n",
              "  </tbody>\n",
              "</table>\n",
              "</div>"
            ],
            "text/plain": [
              "   Age  DailyRate  DistanceFromHome  EnvironmentSatisfaction  HourlyRate  \\\n",
              "0   41       1102                 1                        2          94   \n",
              "1   49        279                 8                        3          61   \n",
              "2   37       1373                 2                        4          92   \n",
              "3   33       1392                 3                        4          56   \n",
              "4   27        591                 2                        1          40   \n",
              "\n",
              "   JobInvolvement  JobLevel  JobSatisfaction  RelationshipSatisfaction  \\\n",
              "0               3         2                4                         1   \n",
              "1               2         2                2                         4   \n",
              "2               2         1                3                         2   \n",
              "3               3         1                3                         3   \n",
              "4               3         1                2                         4   \n",
              "\n",
              "   StockOptionLevel  TrainingTimesLastYear  \n",
              "0                 0                      0  \n",
              "1                 1                      3  \n",
              "2                 0                      3  \n",
              "3                 0                      3  \n",
              "4                 1                      3  "
            ]
          },
          "metadata": {
            "tags": []
          },
          "execution_count": 14
        }
      ]
    },
    {
      "metadata": {
        "id": "uinQ1USpcnpi",
        "colab_type": "code",
        "outputId": "efe449b7-6be8-4acf-c1f6-964d66152de9",
        "colab": {
          "base_uri": "https://localhost:8080/",
          "height": 204
        }
      },
      "cell_type": "code",
      "source": [
        "#Copy categorical data\n",
        "hr_data_cat = hr_data[['Attrition', 'BusinessTravel','Department',\n",
        "                       'EducationField','Gender','JobRole','MaritalStatus',\n",
        "                       'Over18', 'OverTime']].copy()\n",
        "hr_data_cat.head()"
      ],
      "execution_count": 0,
      "outputs": [
        {
          "output_type": "execute_result",
          "data": {
            "text/html": [
              "<div>\n",
              "<style scoped>\n",
              "    .dataframe tbody tr th:only-of-type {\n",
              "        vertical-align: middle;\n",
              "    }\n",
              "\n",
              "    .dataframe tbody tr th {\n",
              "        vertical-align: top;\n",
              "    }\n",
              "\n",
              "    .dataframe thead th {\n",
              "        text-align: right;\n",
              "    }\n",
              "</style>\n",
              "<table border=\"1\" class=\"dataframe\">\n",
              "  <thead>\n",
              "    <tr style=\"text-align: right;\">\n",
              "      <th></th>\n",
              "      <th>Attrition</th>\n",
              "      <th>BusinessTravel</th>\n",
              "      <th>Department</th>\n",
              "      <th>EducationField</th>\n",
              "      <th>Gender</th>\n",
              "      <th>JobRole</th>\n",
              "      <th>MaritalStatus</th>\n",
              "      <th>Over18</th>\n",
              "      <th>OverTime</th>\n",
              "    </tr>\n",
              "  </thead>\n",
              "  <tbody>\n",
              "    <tr>\n",
              "      <th>0</th>\n",
              "      <td>Yes</td>\n",
              "      <td>Travel_Rarely</td>\n",
              "      <td>Sales</td>\n",
              "      <td>Life Sciences</td>\n",
              "      <td>Female</td>\n",
              "      <td>Sales Executive</td>\n",
              "      <td>Single</td>\n",
              "      <td>Y</td>\n",
              "      <td>Yes</td>\n",
              "    </tr>\n",
              "    <tr>\n",
              "      <th>1</th>\n",
              "      <td>No</td>\n",
              "      <td>Travel_Frequently</td>\n",
              "      <td>Research &amp; Development</td>\n",
              "      <td>Life Sciences</td>\n",
              "      <td>Male</td>\n",
              "      <td>Research Scientist</td>\n",
              "      <td>Married</td>\n",
              "      <td>Y</td>\n",
              "      <td>No</td>\n",
              "    </tr>\n",
              "    <tr>\n",
              "      <th>2</th>\n",
              "      <td>Yes</td>\n",
              "      <td>Travel_Rarely</td>\n",
              "      <td>Research &amp; Development</td>\n",
              "      <td>Other</td>\n",
              "      <td>Male</td>\n",
              "      <td>Laboratory Technician</td>\n",
              "      <td>Single</td>\n",
              "      <td>Y</td>\n",
              "      <td>Yes</td>\n",
              "    </tr>\n",
              "    <tr>\n",
              "      <th>3</th>\n",
              "      <td>No</td>\n",
              "      <td>Travel_Frequently</td>\n",
              "      <td>Research &amp; Development</td>\n",
              "      <td>Life Sciences</td>\n",
              "      <td>Female</td>\n",
              "      <td>Research Scientist</td>\n",
              "      <td>Married</td>\n",
              "      <td>Y</td>\n",
              "      <td>Yes</td>\n",
              "    </tr>\n",
              "    <tr>\n",
              "      <th>4</th>\n",
              "      <td>No</td>\n",
              "      <td>Travel_Rarely</td>\n",
              "      <td>Research &amp; Development</td>\n",
              "      <td>Medical</td>\n",
              "      <td>Male</td>\n",
              "      <td>Laboratory Technician</td>\n",
              "      <td>Married</td>\n",
              "      <td>Y</td>\n",
              "      <td>No</td>\n",
              "    </tr>\n",
              "  </tbody>\n",
              "</table>\n",
              "</div>"
            ],
            "text/plain": [
              "  Attrition     BusinessTravel              Department EducationField  Gender  \\\n",
              "0       Yes      Travel_Rarely                   Sales  Life Sciences  Female   \n",
              "1        No  Travel_Frequently  Research & Development  Life Sciences    Male   \n",
              "2       Yes      Travel_Rarely  Research & Development          Other    Male   \n",
              "3        No  Travel_Frequently  Research & Development  Life Sciences  Female   \n",
              "4        No      Travel_Rarely  Research & Development        Medical    Male   \n",
              "\n",
              "                 JobRole MaritalStatus Over18 OverTime  \n",
              "0        Sales Executive        Single      Y      Yes  \n",
              "1     Research Scientist       Married      Y       No  \n",
              "2  Laboratory Technician        Single      Y      Yes  \n",
              "3     Research Scientist       Married      Y      Yes  \n",
              "4  Laboratory Technician       Married      Y       No  "
            ]
          },
          "metadata": {
            "tags": []
          },
          "execution_count": 15
        }
      ]
    },
    {
      "metadata": {
        "id": "Mm-J48rQcrNK",
        "colab_type": "code",
        "outputId": "24c8f574-8e4f-4211-cf44-e9c9bf3feb4b",
        "colab": {
          "base_uri": "https://localhost:8080/",
          "height": 204
        }
      },
      "cell_type": "code",
      "source": [
        "Num_val = {'Yes':1, 'No':0}\n",
        "hr_data_cat['Attrition'] = hr_data_cat[\"Attrition\"].apply(lambda x: Num_val[x])\n",
        "hr_data_cat.head()"
      ],
      "execution_count": 0,
      "outputs": [
        {
          "output_type": "execute_result",
          "data": {
            "text/html": [
              "<div>\n",
              "<style scoped>\n",
              "    .dataframe tbody tr th:only-of-type {\n",
              "        vertical-align: middle;\n",
              "    }\n",
              "\n",
              "    .dataframe tbody tr th {\n",
              "        vertical-align: top;\n",
              "    }\n",
              "\n",
              "    .dataframe thead th {\n",
              "        text-align: right;\n",
              "    }\n",
              "</style>\n",
              "<table border=\"1\" class=\"dataframe\">\n",
              "  <thead>\n",
              "    <tr style=\"text-align: right;\">\n",
              "      <th></th>\n",
              "      <th>Attrition</th>\n",
              "      <th>BusinessTravel</th>\n",
              "      <th>Department</th>\n",
              "      <th>EducationField</th>\n",
              "      <th>Gender</th>\n",
              "      <th>JobRole</th>\n",
              "      <th>MaritalStatus</th>\n",
              "      <th>Over18</th>\n",
              "      <th>OverTime</th>\n",
              "    </tr>\n",
              "  </thead>\n",
              "  <tbody>\n",
              "    <tr>\n",
              "      <th>0</th>\n",
              "      <td>1</td>\n",
              "      <td>Travel_Rarely</td>\n",
              "      <td>Sales</td>\n",
              "      <td>Life Sciences</td>\n",
              "      <td>Female</td>\n",
              "      <td>Sales Executive</td>\n",
              "      <td>Single</td>\n",
              "      <td>Y</td>\n",
              "      <td>Yes</td>\n",
              "    </tr>\n",
              "    <tr>\n",
              "      <th>1</th>\n",
              "      <td>0</td>\n",
              "      <td>Travel_Frequently</td>\n",
              "      <td>Research &amp; Development</td>\n",
              "      <td>Life Sciences</td>\n",
              "      <td>Male</td>\n",
              "      <td>Research Scientist</td>\n",
              "      <td>Married</td>\n",
              "      <td>Y</td>\n",
              "      <td>No</td>\n",
              "    </tr>\n",
              "    <tr>\n",
              "      <th>2</th>\n",
              "      <td>1</td>\n",
              "      <td>Travel_Rarely</td>\n",
              "      <td>Research &amp; Development</td>\n",
              "      <td>Other</td>\n",
              "      <td>Male</td>\n",
              "      <td>Laboratory Technician</td>\n",
              "      <td>Single</td>\n",
              "      <td>Y</td>\n",
              "      <td>Yes</td>\n",
              "    </tr>\n",
              "    <tr>\n",
              "      <th>3</th>\n",
              "      <td>0</td>\n",
              "      <td>Travel_Frequently</td>\n",
              "      <td>Research &amp; Development</td>\n",
              "      <td>Life Sciences</td>\n",
              "      <td>Female</td>\n",
              "      <td>Research Scientist</td>\n",
              "      <td>Married</td>\n",
              "      <td>Y</td>\n",
              "      <td>Yes</td>\n",
              "    </tr>\n",
              "    <tr>\n",
              "      <th>4</th>\n",
              "      <td>0</td>\n",
              "      <td>Travel_Rarely</td>\n",
              "      <td>Research &amp; Development</td>\n",
              "      <td>Medical</td>\n",
              "      <td>Male</td>\n",
              "      <td>Laboratory Technician</td>\n",
              "      <td>Married</td>\n",
              "      <td>Y</td>\n",
              "      <td>No</td>\n",
              "    </tr>\n",
              "  </tbody>\n",
              "</table>\n",
              "</div>"
            ],
            "text/plain": [
              "   Attrition     BusinessTravel              Department EducationField  \\\n",
              "0          1      Travel_Rarely                   Sales  Life Sciences   \n",
              "1          0  Travel_Frequently  Research & Development  Life Sciences   \n",
              "2          1      Travel_Rarely  Research & Development          Other   \n",
              "3          0  Travel_Frequently  Research & Development  Life Sciences   \n",
              "4          0      Travel_Rarely  Research & Development        Medical   \n",
              "\n",
              "   Gender                JobRole MaritalStatus Over18 OverTime  \n",
              "0  Female        Sales Executive        Single      Y      Yes  \n",
              "1    Male     Research Scientist       Married      Y       No  \n",
              "2    Male  Laboratory Technician        Single      Y      Yes  \n",
              "3  Female     Research Scientist       Married      Y      Yes  \n",
              "4    Male  Laboratory Technician       Married      Y       No  "
            ]
          },
          "metadata": {
            "tags": []
          },
          "execution_count": 16
        }
      ]
    },
    {
      "metadata": {
        "id": "WejxEVuBcvOV",
        "colab_type": "code",
        "outputId": "51fc3592-97ca-410d-bfe7-6c1abd9cb1f3",
        "colab": {
          "base_uri": "https://localhost:8080/",
          "height": 270
        }
      },
      "cell_type": "code",
      "source": [
        "hr_data_cat = pd.get_dummies(hr_data_cat)\n",
        "hr_data_cat.head()"
      ],
      "execution_count": 0,
      "outputs": [
        {
          "output_type": "execute_result",
          "data": {
            "text/html": [
              "<div>\n",
              "<style scoped>\n",
              "    .dataframe tbody tr th:only-of-type {\n",
              "        vertical-align: middle;\n",
              "    }\n",
              "\n",
              "    .dataframe tbody tr th {\n",
              "        vertical-align: top;\n",
              "    }\n",
              "\n",
              "    .dataframe thead th {\n",
              "        text-align: right;\n",
              "    }\n",
              "</style>\n",
              "<table border=\"1\" class=\"dataframe\">\n",
              "  <thead>\n",
              "    <tr style=\"text-align: right;\">\n",
              "      <th></th>\n",
              "      <th>Attrition</th>\n",
              "      <th>BusinessTravel_Non-Travel</th>\n",
              "      <th>BusinessTravel_Travel_Frequently</th>\n",
              "      <th>BusinessTravel_Travel_Rarely</th>\n",
              "      <th>Department_Human Resources</th>\n",
              "      <th>Department_Research &amp; Development</th>\n",
              "      <th>Department_Sales</th>\n",
              "      <th>EducationField_Human Resources</th>\n",
              "      <th>EducationField_Life Sciences</th>\n",
              "      <th>EducationField_Marketing</th>\n",
              "      <th>...</th>\n",
              "      <th>JobRole_Research Director</th>\n",
              "      <th>JobRole_Research Scientist</th>\n",
              "      <th>JobRole_Sales Executive</th>\n",
              "      <th>JobRole_Sales Representative</th>\n",
              "      <th>MaritalStatus_Divorced</th>\n",
              "      <th>MaritalStatus_Married</th>\n",
              "      <th>MaritalStatus_Single</th>\n",
              "      <th>Over18_Y</th>\n",
              "      <th>OverTime_No</th>\n",
              "      <th>OverTime_Yes</th>\n",
              "    </tr>\n",
              "  </thead>\n",
              "  <tbody>\n",
              "    <tr>\n",
              "      <th>0</th>\n",
              "      <td>1</td>\n",
              "      <td>0</td>\n",
              "      <td>0</td>\n",
              "      <td>1</td>\n",
              "      <td>0</td>\n",
              "      <td>0</td>\n",
              "      <td>1</td>\n",
              "      <td>0</td>\n",
              "      <td>1</td>\n",
              "      <td>0</td>\n",
              "      <td>...</td>\n",
              "      <td>0</td>\n",
              "      <td>0</td>\n",
              "      <td>1</td>\n",
              "      <td>0</td>\n",
              "      <td>0</td>\n",
              "      <td>0</td>\n",
              "      <td>1</td>\n",
              "      <td>1</td>\n",
              "      <td>0</td>\n",
              "      <td>1</td>\n",
              "    </tr>\n",
              "    <tr>\n",
              "      <th>1</th>\n",
              "      <td>0</td>\n",
              "      <td>0</td>\n",
              "      <td>1</td>\n",
              "      <td>0</td>\n",
              "      <td>0</td>\n",
              "      <td>1</td>\n",
              "      <td>0</td>\n",
              "      <td>0</td>\n",
              "      <td>1</td>\n",
              "      <td>0</td>\n",
              "      <td>...</td>\n",
              "      <td>0</td>\n",
              "      <td>1</td>\n",
              "      <td>0</td>\n",
              "      <td>0</td>\n",
              "      <td>0</td>\n",
              "      <td>1</td>\n",
              "      <td>0</td>\n",
              "      <td>1</td>\n",
              "      <td>1</td>\n",
              "      <td>0</td>\n",
              "    </tr>\n",
              "    <tr>\n",
              "      <th>2</th>\n",
              "      <td>1</td>\n",
              "      <td>0</td>\n",
              "      <td>0</td>\n",
              "      <td>1</td>\n",
              "      <td>0</td>\n",
              "      <td>1</td>\n",
              "      <td>0</td>\n",
              "      <td>0</td>\n",
              "      <td>0</td>\n",
              "      <td>0</td>\n",
              "      <td>...</td>\n",
              "      <td>0</td>\n",
              "      <td>0</td>\n",
              "      <td>0</td>\n",
              "      <td>0</td>\n",
              "      <td>0</td>\n",
              "      <td>0</td>\n",
              "      <td>1</td>\n",
              "      <td>1</td>\n",
              "      <td>0</td>\n",
              "      <td>1</td>\n",
              "    </tr>\n",
              "    <tr>\n",
              "      <th>3</th>\n",
              "      <td>0</td>\n",
              "      <td>0</td>\n",
              "      <td>1</td>\n",
              "      <td>0</td>\n",
              "      <td>0</td>\n",
              "      <td>1</td>\n",
              "      <td>0</td>\n",
              "      <td>0</td>\n",
              "      <td>1</td>\n",
              "      <td>0</td>\n",
              "      <td>...</td>\n",
              "      <td>0</td>\n",
              "      <td>1</td>\n",
              "      <td>0</td>\n",
              "      <td>0</td>\n",
              "      <td>0</td>\n",
              "      <td>1</td>\n",
              "      <td>0</td>\n",
              "      <td>1</td>\n",
              "      <td>0</td>\n",
              "      <td>1</td>\n",
              "    </tr>\n",
              "    <tr>\n",
              "      <th>4</th>\n",
              "      <td>0</td>\n",
              "      <td>0</td>\n",
              "      <td>0</td>\n",
              "      <td>1</td>\n",
              "      <td>0</td>\n",
              "      <td>1</td>\n",
              "      <td>0</td>\n",
              "      <td>0</td>\n",
              "      <td>0</td>\n",
              "      <td>0</td>\n",
              "      <td>...</td>\n",
              "      <td>0</td>\n",
              "      <td>0</td>\n",
              "      <td>0</td>\n",
              "      <td>0</td>\n",
              "      <td>0</td>\n",
              "      <td>1</td>\n",
              "      <td>0</td>\n",
              "      <td>1</td>\n",
              "      <td>1</td>\n",
              "      <td>0</td>\n",
              "    </tr>\n",
              "  </tbody>\n",
              "</table>\n",
              "<p>5 rows × 30 columns</p>\n",
              "</div>"
            ],
            "text/plain": [
              "   Attrition  BusinessTravel_Non-Travel  BusinessTravel_Travel_Frequently  \\\n",
              "0          1                          0                                 0   \n",
              "1          0                          0                                 1   \n",
              "2          1                          0                                 0   \n",
              "3          0                          0                                 1   \n",
              "4          0                          0                                 0   \n",
              "\n",
              "   BusinessTravel_Travel_Rarely  Department_Human Resources  \\\n",
              "0                             1                           0   \n",
              "1                             0                           0   \n",
              "2                             1                           0   \n",
              "3                             0                           0   \n",
              "4                             1                           0   \n",
              "\n",
              "   Department_Research & Development  Department_Sales  \\\n",
              "0                                  0                 1   \n",
              "1                                  1                 0   \n",
              "2                                  1                 0   \n",
              "3                                  1                 0   \n",
              "4                                  1                 0   \n",
              "\n",
              "   EducationField_Human Resources  EducationField_Life Sciences  \\\n",
              "0                               0                             1   \n",
              "1                               0                             1   \n",
              "2                               0                             0   \n",
              "3                               0                             1   \n",
              "4                               0                             0   \n",
              "\n",
              "   EducationField_Marketing      ...       JobRole_Research Director  \\\n",
              "0                         0      ...                               0   \n",
              "1                         0      ...                               0   \n",
              "2                         0      ...                               0   \n",
              "3                         0      ...                               0   \n",
              "4                         0      ...                               0   \n",
              "\n",
              "   JobRole_Research Scientist  JobRole_Sales Executive  \\\n",
              "0                           0                        1   \n",
              "1                           1                        0   \n",
              "2                           0                        0   \n",
              "3                           1                        0   \n",
              "4                           0                        0   \n",
              "\n",
              "   JobRole_Sales Representative  MaritalStatus_Divorced  \\\n",
              "0                             0                       0   \n",
              "1                             0                       0   \n",
              "2                             0                       0   \n",
              "3                             0                       0   \n",
              "4                             0                       0   \n",
              "\n",
              "   MaritalStatus_Married  MaritalStatus_Single  Over18_Y  OverTime_No  \\\n",
              "0                      0                     1         1            0   \n",
              "1                      1                     0         1            1   \n",
              "2                      0                     1         1            0   \n",
              "3                      1                     0         1            0   \n",
              "4                      1                     0         1            1   \n",
              "\n",
              "   OverTime_Yes  \n",
              "0             1  \n",
              "1             0  \n",
              "2             1  \n",
              "3             1  \n",
              "4             0  \n",
              "\n",
              "[5 rows x 30 columns]"
            ]
          },
          "metadata": {
            "tags": []
          },
          "execution_count": 17
        }
      ]
    },
    {
      "metadata": {
        "id": "3Tzv6T0oczAC",
        "colab_type": "code",
        "outputId": "1869ba77-0181-4e24-af59-ccf28cd55dc1",
        "colab": {
          "base_uri": "https://localhost:8080/",
          "height": 270
        }
      },
      "cell_type": "code",
      "source": [
        "hr_data_final = pd.concat([hr_data_num, hr_data_cat], axis=1)\n",
        "hr_data_final.head()"
      ],
      "execution_count": 0,
      "outputs": [
        {
          "output_type": "execute_result",
          "data": {
            "text/html": [
              "<div>\n",
              "<style scoped>\n",
              "    .dataframe tbody tr th:only-of-type {\n",
              "        vertical-align: middle;\n",
              "    }\n",
              "\n",
              "    .dataframe tbody tr th {\n",
              "        vertical-align: top;\n",
              "    }\n",
              "\n",
              "    .dataframe thead th {\n",
              "        text-align: right;\n",
              "    }\n",
              "</style>\n",
              "<table border=\"1\" class=\"dataframe\">\n",
              "  <thead>\n",
              "    <tr style=\"text-align: right;\">\n",
              "      <th></th>\n",
              "      <th>Age</th>\n",
              "      <th>DailyRate</th>\n",
              "      <th>DistanceFromHome</th>\n",
              "      <th>Education</th>\n",
              "      <th>EmployeeNumber</th>\n",
              "      <th>EnvironmentSatisfaction</th>\n",
              "      <th>HourlyRate</th>\n",
              "      <th>JobInvolvement</th>\n",
              "      <th>JobLevel</th>\n",
              "      <th>JobSatisfaction</th>\n",
              "      <th>...</th>\n",
              "      <th>JobRole_Research Director</th>\n",
              "      <th>JobRole_Research Scientist</th>\n",
              "      <th>JobRole_Sales Executive</th>\n",
              "      <th>JobRole_Sales Representative</th>\n",
              "      <th>MaritalStatus_Divorced</th>\n",
              "      <th>MaritalStatus_Married</th>\n",
              "      <th>MaritalStatus_Single</th>\n",
              "      <th>Over18_Y</th>\n",
              "      <th>OverTime_No</th>\n",
              "      <th>OverTime_Yes</th>\n",
              "    </tr>\n",
              "  </thead>\n",
              "  <tbody>\n",
              "    <tr>\n",
              "      <th>0</th>\n",
              "      <td>41</td>\n",
              "      <td>1102</td>\n",
              "      <td>1</td>\n",
              "      <td>2</td>\n",
              "      <td>1</td>\n",
              "      <td>2</td>\n",
              "      <td>94</td>\n",
              "      <td>3</td>\n",
              "      <td>2</td>\n",
              "      <td>4</td>\n",
              "      <td>...</td>\n",
              "      <td>0</td>\n",
              "      <td>0</td>\n",
              "      <td>1</td>\n",
              "      <td>0</td>\n",
              "      <td>0</td>\n",
              "      <td>0</td>\n",
              "      <td>1</td>\n",
              "      <td>1</td>\n",
              "      <td>0</td>\n",
              "      <td>1</td>\n",
              "    </tr>\n",
              "    <tr>\n",
              "      <th>1</th>\n",
              "      <td>49</td>\n",
              "      <td>279</td>\n",
              "      <td>8</td>\n",
              "      <td>1</td>\n",
              "      <td>2</td>\n",
              "      <td>3</td>\n",
              "      <td>61</td>\n",
              "      <td>2</td>\n",
              "      <td>2</td>\n",
              "      <td>2</td>\n",
              "      <td>...</td>\n",
              "      <td>0</td>\n",
              "      <td>1</td>\n",
              "      <td>0</td>\n",
              "      <td>0</td>\n",
              "      <td>0</td>\n",
              "      <td>1</td>\n",
              "      <td>0</td>\n",
              "      <td>1</td>\n",
              "      <td>1</td>\n",
              "      <td>0</td>\n",
              "    </tr>\n",
              "    <tr>\n",
              "      <th>2</th>\n",
              "      <td>37</td>\n",
              "      <td>1373</td>\n",
              "      <td>2</td>\n",
              "      <td>2</td>\n",
              "      <td>4</td>\n",
              "      <td>4</td>\n",
              "      <td>92</td>\n",
              "      <td>2</td>\n",
              "      <td>1</td>\n",
              "      <td>3</td>\n",
              "      <td>...</td>\n",
              "      <td>0</td>\n",
              "      <td>0</td>\n",
              "      <td>0</td>\n",
              "      <td>0</td>\n",
              "      <td>0</td>\n",
              "      <td>0</td>\n",
              "      <td>1</td>\n",
              "      <td>1</td>\n",
              "      <td>0</td>\n",
              "      <td>1</td>\n",
              "    </tr>\n",
              "    <tr>\n",
              "      <th>3</th>\n",
              "      <td>33</td>\n",
              "      <td>1392</td>\n",
              "      <td>3</td>\n",
              "      <td>4</td>\n",
              "      <td>5</td>\n",
              "      <td>4</td>\n",
              "      <td>56</td>\n",
              "      <td>3</td>\n",
              "      <td>1</td>\n",
              "      <td>3</td>\n",
              "      <td>...</td>\n",
              "      <td>0</td>\n",
              "      <td>1</td>\n",
              "      <td>0</td>\n",
              "      <td>0</td>\n",
              "      <td>0</td>\n",
              "      <td>1</td>\n",
              "      <td>0</td>\n",
              "      <td>1</td>\n",
              "      <td>0</td>\n",
              "      <td>1</td>\n",
              "    </tr>\n",
              "    <tr>\n",
              "      <th>4</th>\n",
              "      <td>27</td>\n",
              "      <td>591</td>\n",
              "      <td>2</td>\n",
              "      <td>1</td>\n",
              "      <td>7</td>\n",
              "      <td>1</td>\n",
              "      <td>40</td>\n",
              "      <td>3</td>\n",
              "      <td>1</td>\n",
              "      <td>2</td>\n",
              "      <td>...</td>\n",
              "      <td>0</td>\n",
              "      <td>0</td>\n",
              "      <td>0</td>\n",
              "      <td>0</td>\n",
              "      <td>0</td>\n",
              "      <td>1</td>\n",
              "      <td>0</td>\n",
              "      <td>1</td>\n",
              "      <td>1</td>\n",
              "      <td>0</td>\n",
              "    </tr>\n",
              "  </tbody>\n",
              "</table>\n",
              "<p>5 rows × 54 columns</p>\n",
              "</div>"
            ],
            "text/plain": [
              "   Age  DailyRate  DistanceFromHome  Education  EmployeeNumber  \\\n",
              "0   41       1102                 1          2               1   \n",
              "1   49        279                 8          1               2   \n",
              "2   37       1373                 2          2               4   \n",
              "3   33       1392                 3          4               5   \n",
              "4   27        591                 2          1               7   \n",
              "\n",
              "   EnvironmentSatisfaction  HourlyRate  JobInvolvement  JobLevel  \\\n",
              "0                        2          94               3         2   \n",
              "1                        3          61               2         2   \n",
              "2                        4          92               2         1   \n",
              "3                        4          56               3         1   \n",
              "4                        1          40               3         1   \n",
              "\n",
              "   JobSatisfaction      ...       JobRole_Research Director  \\\n",
              "0                4      ...                               0   \n",
              "1                2      ...                               0   \n",
              "2                3      ...                               0   \n",
              "3                3      ...                               0   \n",
              "4                2      ...                               0   \n",
              "\n",
              "   JobRole_Research Scientist  JobRole_Sales Executive  \\\n",
              "0                           0                        1   \n",
              "1                           1                        0   \n",
              "2                           0                        0   \n",
              "3                           1                        0   \n",
              "4                           0                        0   \n",
              "\n",
              "   JobRole_Sales Representative  MaritalStatus_Divorced  \\\n",
              "0                             0                       0   \n",
              "1                             0                       0   \n",
              "2                             0                       0   \n",
              "3                             0                       0   \n",
              "4                             0                       0   \n",
              "\n",
              "   MaritalStatus_Married  MaritalStatus_Single  Over18_Y  OverTime_No  \\\n",
              "0                      0                     1         1            0   \n",
              "1                      1                     0         1            1   \n",
              "2                      0                     1         1            0   \n",
              "3                      1                     0         1            0   \n",
              "4                      1                     0         1            1   \n",
              "\n",
              "   OverTime_Yes  \n",
              "0             1  \n",
              "1             0  \n",
              "2             1  \n",
              "3             1  \n",
              "4             0  \n",
              "\n",
              "[5 rows x 54 columns]"
            ]
          },
          "metadata": {
            "tags": []
          },
          "execution_count": 18
        }
      ]
    },
    {
      "metadata": {
        "id": "rlM4N8coc2_d",
        "colab_type": "code",
        "colab": {}
      },
      "cell_type": "code",
      "source": [
        "from sklearn.model_selection import train_test_split\n",
        "\n",
        "target = hr_data_final['Attrition']\n",
        "features = hr_data_final.drop('Attrition', axis = 1)\n",
        "\n",
        "X_train, X_test, y_train, y_test = train_test_split(features, target, test_size=0.4, random_state=10)"
      ],
      "execution_count": 0,
      "outputs": []
    },
    {
      "metadata": {
        "id": "qOlPBDfrc6pm",
        "colab_type": "code",
        "outputId": "3b5abd61-7d0c-46a5-eeaf-13c9094df942",
        "colab": {
          "base_uri": "https://localhost:8080/",
          "height": 170
        }
      },
      "cell_type": "code",
      "source": [
        "from sklearn.ensemble import RandomForestClassifier\n",
        "\n",
        "model = RandomForestClassifier()\n",
        "model.fit(X_train,y_train)"
      ],
      "execution_count": 0,
      "outputs": [
        {
          "output_type": "stream",
          "text": [
            "/usr/local/lib/python3.6/dist-packages/sklearn/ensemble/forest.py:246: FutureWarning: The default value of n_estimators will change from 10 in version 0.20 to 100 in 0.22.\n",
            "  \"10 in version 0.20 to 100 in 0.22.\", FutureWarning)\n"
          ],
          "name": "stderr"
        },
        {
          "output_type": "execute_result",
          "data": {
            "text/plain": [
              "RandomForestClassifier(bootstrap=True, class_weight=None, criterion='gini',\n",
              "            max_depth=None, max_features='auto', max_leaf_nodes=None,\n",
              "            min_impurity_decrease=0.0, min_impurity_split=None,\n",
              "            min_samples_leaf=1, min_samples_split=2,\n",
              "            min_weight_fraction_leaf=0.0, n_estimators=10, n_jobs=None,\n",
              "            oob_score=False, random_state=None, verbose=0,\n",
              "            warm_start=False)"
            ]
          },
          "metadata": {
            "tags": []
          },
          "execution_count": 26
        }
      ]
    },
    {
      "metadata": {
        "id": "9GIKwrLueHaL",
        "colab_type": "code",
        "outputId": "4eaced06-1950-4bc3-ee9b-d9faf4bfcadc",
        "colab": {
          "base_uri": "https://localhost:8080/",
          "height": 34
        }
      },
      "cell_type": "code",
      "source": [
        "from sklearn.metrics import accuracy_score\n",
        "test_pred = model.predict(X_test)\n",
        "accuracy_score(y_test, test_pred)"
      ],
      "execution_count": 0,
      "outputs": [
        {
          "output_type": "execute_result",
          "data": {
            "text/plain": [
              "0.8469387755102041"
            ]
          },
          "metadata": {
            "tags": []
          },
          "execution_count": 27
        }
      ]
    },
    {
      "metadata": {
        "id": "s2w3kPjJeJYB",
        "colab_type": "code",
        "outputId": "f7217cf2-63f7-41a2-a1eb-dfe11d719dc3",
        "colab": {
          "base_uri": "https://localhost:8080/",
          "height": 282
        }
      },
      "cell_type": "code",
      "source": [
        "feat_importances = pd.Series(model.feature_importances_, index=features.columns)\n",
        "feat_importances = feat_importances.nlargest(20)\n",
        "feat_importances.plot(kind='barh')"
      ],
      "execution_count": 0,
      "outputs": [
        {
          "output_type": "execute_result",
          "data": {
            "text/plain": [
              "<matplotlib.axes._subplots.AxesSubplot at 0x7f28d1e97128>"
            ]
          },
          "metadata": {
            "tags": []
          },
          "execution_count": 28
        },
        {
          "output_type": "display_data",
          "data": {
            "image/png": "[encoded data removed]",
            "text/plain": [
              "<Figure size 432x288 with 1 Axes>"
            ]
          },
          "metadata": {
            "tags": []
          }
        }
      ]
    },
    {
      "metadata": {
        "id": "ERdY6tWbjRkz",
        "colab_type": "code",
        "outputId": "98b5c4e9-dd5c-4100-9e89-f2391c829fdc",
        "colab": {
          "base_uri": "https://localhost:8080/",
          "height": 34
        }
      },
      "cell_type": "code",
      "source": [
        "from sklearn import tree\n",
        "decision_tree = tree.DecisionTreeClassifier(max_depth = 4)\n",
        "decision_tree.fit(X_train,y_train)\n",
        "\n",
        "# Predicting results for test dataset\n",
        "y_pred = decision_tree.predict(X_test)\n",
        "accuracy_score(y_test, y_pred)"
      ],
      "execution_count": 0,
      "outputs": [
        {
          "output_type": "execute_result",
          "data": {
            "text/plain": [
              "0.8350340136054422"
            ]
          },
          "metadata": {
            "tags": []
          },
          "execution_count": 50
        }
      ]
    },
    {
      "metadata": {
        "id": "S3Czc9fCkYNd",
        "colab_type": "code",
        "colab": {}
      },
      "cell_type": "code",
      "source": [
        "seed = 0 \n",
        "# Gradient Boosting Parameters\n",
        "gb_params ={\n",
        "    'n_estimators': 1500,\n",
        "    'max_features': 0.9,\n",
        "    'learning_rate' : 0.25,\n",
        "    'max_depth': 4,\n",
        "    'min_samples_leaf': 2,\n",
        "    'subsample': 1,\n",
        "    'max_features' : 'sqrt',\n",
        "    'random_state' : seed,\n",
        "    'verbose': 0\n",
        "}"
      ],
      "execution_count": 0,
      "outputs": []
    },
    {
      "metadata": {
        "id": "WugyuOcjk-Ho",
        "colab_type": "code",
        "outputId": "17bafe54-addf-484b-888f-2a0b36ecf886",
        "colab": {
          "base_uri": "https://localhost:8080/",
          "height": 34
        }
      },
      "cell_type": "code",
      "source": [
        "gb = GradientBoostingClassifier(**gb_params)\n",
        "# Fit the model to our SMOTEd train and target\n",
        "gb.fit(X_train,y_train)\n",
        "# Get our predictions\n",
        "gb_predictions = gb.predict(X_test)\n",
        "print(\"Predictions have finished\")"
      ],
      "execution_count": 0,
      "outputs": [
        {
          "output_type": "stream",
          "text": [
            "Predictions have finished\n"
          ],
          "name": "stdout"
        }
      ]
    },
    {
      "metadata": {
        "id": "PcWmcozklJe2",
        "colab_type": "code",
        "outputId": "67df7143-b696-4fab-83f2-f946ff82dae6",
        "colab": {
          "base_uri": "https://localhost:8080/",
          "height": 187
        }
      },
      "cell_type": "code",
      "source": [
        "print(accuracy_score(y_test, y_pred))\n",
        "print(classification_report(y_test, gb_predictions))"
      ],
      "execution_count": 0,
      "outputs": [
        {
          "output_type": "stream",
          "text": [
            "0.8350340136054422\n",
            "              precision    recall  f1-score   support\n",
            "\n",
            "           0       0.85      0.98      0.91       483\n",
            "           1       0.69      0.23      0.34       105\n",
            "\n",
            "   micro avg       0.84      0.84      0.84       588\n",
            "   macro avg       0.77      0.60      0.63       588\n",
            "weighted avg       0.82      0.84      0.81       588\n",
            "\n"
          ],
          "name": "stdout"
        }
      ]
    },
    {
      "metadata": {
        "id": "550XaO_plf8O",
        "colab_type": "code",
        "outputId": "6f083e10-aee6-4f58-acdb-368d124e1b75",
        "colab": {
          "base_uri": "https://localhost:8080/",
          "height": 542
        }
      },
      "cell_type": "code",
      "source": [
        "# Import statements required for Plotly \n",
        "import plotly.offline as py\n",
        "py.init_notebook_mode(connected=True)\n",
        "import plotly.graph_objs as go\n",
        "import plotly.tools as tls\n",
        "\n",
        "\n",
        "\n",
        "# Scatter plot \n",
        "trace = go.Scatter(\n",
        "    y = gb.feature_importances_,\n",
        "    x = hr_data_final.columns.values,\n",
        "    mode='markers',\n",
        "    marker=dict(\n",
        "        sizemode = 'diameter',\n",
        "        sizeref = 1,\n",
        "        size = 13,\n",
        "        #size= rf.feature_importances_,\n",
        "        #color = np.random.randn(500), #set color equal to a variable\n",
        "        color = gb.feature_importances_,\n",
        "        colorscale='Portland',\n",
        "        showscale=True\n",
        "    ),\n",
        "    text = hr_data_final.columns.values\n",
        ")\n",
        "data = [trace]\n",
        "\n",
        "layout= go.Layout(\n",
        "    autosize= True,\n",
        "    title= 'Gradient Boosting Model Feature Importance',\n",
        "    hovermode= 'closest',\n",
        "     xaxis= dict(\n",
        "         ticklen= 5,\n",
        "         showgrid=False,\n",
        "        zeroline=False,\n",
        "        showline=False\n",
        "     ),\n",
        "    yaxis=dict(\n",
        "        title= 'Feature Importance',\n",
        "        showgrid=False,\n",
        "        zeroline=False,\n",
        "        ticklen= 5,\n",
        "        gridwidth= 2\n",
        "    ),\n",
        "    showlegend= False\n",
        ")\n",
        "fig = go.Figure(data=data, layout=layout)\n",
        "py.iplot(fig,filename='scatter')\n",
        "#change to plot to print as an html page"
      ],
      "execution_count": 0,
      "outputs": [
        {
          "output_type": "display_data",
          "data": {
            "text/vnd.plotly.v1+html": "<script type=\"text/javascript\">window.PlotlyConfig = {MathJaxConfig: 'local'};</script><script type=\"text/javascript\">if (window.MathJax) {MathJax.Hub.Config({SVG: {font: \"STIX-Web\"}});}</script><script>requirejs.config({paths: { 'plotly': ['https://cdn.plot.ly/plotly-latest.min']},});if(!window._Plotly) {require(['plotly'],function(plotly) {window._Plotly=plotly;});}</script>",
            "text/html": [
              "<script type=\"text/javascript\">window.PlotlyConfig = {MathJaxConfig: 'local'};</script><script type=\"text/javascript\">if (window.MathJax) {MathJax.Hub.Config({SVG: {font: \"STIX-Web\"}});}</script><script>requirejs.config({paths: { 'plotly': ['https://cdn.plot.ly/plotly-latest.min']},});if(!window._Plotly) {require(['plotly'],function(plotly) {window._Plotly=plotly;});}</script>"
            ]
          },
          "metadata": {
            "tags": []
          }
        },
        {
          "output_type": "display_data",
          "data": {
            "text/vnd.plotly.v1+html": "<div id=\"f8572062-8da5-4891-8a40-9603edcec3d6\" style=\"height: 525px; width: 100%;\" class=\"plotly-graph-div\"></div><script type=\"text/javascript\">require([\"plotly\"], function(Plotly) { window.PLOTLYENV=window.PLOTLYENV || {};window.PLOTLYENV.BASE_URL=\"https://plot.ly\";Plotly.newPlot(\"f8572062-8da5-4891-8a40-9603edcec3d6\", [{\"marker\": {\"color\": [0.05259819567626307, 0.043284814491252654, 0.0446068071275324, 0.006185096315668237, 0.04776356621809181, 0.02788140346334743, 0.054583171385528526, 0.034904685803825254, 0.02380891237516712, 0.025260161698547758, 0.11955146009834582, 0.028242155166277077, 0.05086170535835489, 0.02645275804900594, 0.004071309303330441, 0.013725728366959733, 0.03267433306303725, 0.02764226079503268, 0.027429227909406176, 0.01600149899085848, 0.021800952525200312, 0.025386865972237504, 0.016585686615561923, 0.025164442663135295, 0.006814249568761765, 0.010597180893801472, 0.0010286092100326369, 0.0014430545678013422, 0.011477766437983566, 0.004825430859653556, 0.0020719088915441943, 0.004945598019134007, 0.000286220079800604, 0.0019473995572111616, 0.00020617385771360528, 0.005971996489893577, 0.00212142604741245, 0.009108835457165692, 0.0006988131244011937, 0.004093458706498043, 0.0074904668562296136, 4.601363447756403e-05, 0.004269735688412063, 0.0010568590862450242, 0.009268296569203452, 0.019584495404503622, 0.011201486529556133, 0.0037051968747883047, 0.00044665008540953994, 0.011477910532377832, 0.0, 0.015456440924934128, 0.05189112661308589], \"colorscale\": \"Portland\", \"showscale\": true, \"size\": 13, \"sizemode\": \"diameter\", \"sizeref\": 1}, \"mode\": \"markers\", \"text\": [\"Age\", \"DailyRate\", \"DistanceFromHome\", \"Education\", \"EmployeeNumber\", \"EnvironmentSatisfaction\", \"HourlyRate\", \"JobInvolvement\", \"JobLevel\", \"JobSatisfaction\", \"MonthlyIncome\", \"MonthlyRate\", \"NumCompaniesWorked\", \"PercentSalaryHike\", \"PerformanceRating\", \"RelationshipSatisfaction\", \"StockOptionLevel\", \"TotalWorkingYears\", \"TrainingTimesLastYear\", \"WorkLifeBalance\", \"YearsAtCompany\", \"YearsInCurrentRole\", \"YearsSinceLastPromotion\", \"YearsWithCurrManager\", \"Attrition\", \"BusinessTravel_Non-Travel\", \"BusinessTravel_Travel_Frequently\", \"BusinessTravel_Travel_Rarely\", \"Department_Human Resources\", \"Department_Research & Development\", \"Department_Sales\", \"EducationField_Human Resources\", \"EducationField_Life Sciences\", \"EducationField_Marketing\", \"EducationField_Medical\", \"EducationField_Other\", \"EducationField_Technical Degree\", \"Gender_Female\", \"Gender_Male\", \"JobRole_Healthcare Representative\", \"JobRole_Human Resources\", \"JobRole_Laboratory Technician\", \"JobRole_Manager\", \"JobRole_Manufacturing Director\", \"JobRole_Research Director\", \"JobRole_Research Scientist\", \"JobRole_Sales Executive\", \"JobRole_Sales Representative\", \"MaritalStatus_Divorced\", \"MaritalStatus_Married\", \"MaritalStatus_Single\", \"Over18_Y\", \"OverTime_No\", \"OverTime_Yes\"], \"x\": [\"Age\", \"DailyRate\", \"DistanceFromHome\", \"Education\", \"EmployeeNumber\", \"EnvironmentSatisfaction\", \"HourlyRate\", \"JobInvolvement\", \"JobLevel\", \"JobSatisfaction\", \"MonthlyIncome\", \"MonthlyRate\", \"NumCompaniesWorked\", \"PercentSalaryHike\", \"PerformanceRating\", \"RelationshipSatisfaction\", \"StockOptionLevel\", \"TotalWorkingYears\", \"TrainingTimesLastYear\", \"WorkLifeBalance\", \"YearsAtCompany\", \"YearsInCurrentRole\", \"YearsSinceLastPromotion\", \"YearsWithCurrManager\", \"Attrition\", \"BusinessTravel_Non-Travel\", \"BusinessTravel_Travel_Frequently\", \"BusinessTravel_Travel_Rarely\", \"Department_Human Resources\", \"Department_Research & Development\", \"Department_Sales\", \"EducationField_Human Resources\", \"EducationField_Life Sciences\", \"EducationField_Marketing\", \"EducationField_Medical\", \"EducationField_Other\", \"EducationField_Technical Degree\", \"Gender_Female\", \"Gender_Male\", \"JobRole_Healthcare Representative\", \"JobRole_Human Resources\", \"JobRole_Laboratory Technician\", \"JobRole_Manager\", \"JobRole_Manufacturing Director\", \"JobRole_Research Director\", \"JobRole_Research Scientist\", \"JobRole_Sales Executive\", \"JobRole_Sales Representative\", \"MaritalStatus_Divorced\", \"MaritalStatus_Married\", \"MaritalStatus_Single\", \"Over18_Y\", \"OverTime_No\", \"OverTime_Yes\"], \"y\": [0.05259819567626307, 0.043284814491252654, 0.0446068071275324, 0.006185096315668237, 0.04776356621809181, 0.02788140346334743, 0.054583171385528526, 0.034904685803825254, 0.02380891237516712, 0.025260161698547758, 0.11955146009834582, 0.028242155166277077, 0.05086170535835489, 0.02645275804900594, 0.004071309303330441, 0.013725728366959733, 0.03267433306303725, 0.02764226079503268, 0.027429227909406176, 0.01600149899085848, 0.021800952525200312, 0.025386865972237504, 0.016585686615561923, 0.025164442663135295, 0.006814249568761765, 0.010597180893801472, 0.0010286092100326369, 0.0014430545678013422, 0.011477766437983566, 0.004825430859653556, 0.0020719088915441943, 0.004945598019134007, 0.000286220079800604, 0.0019473995572111616, 0.00020617385771360528, 0.005971996489893577, 0.00212142604741245, 0.009108835457165692, 0.0006988131244011937, 0.004093458706498043, 0.0074904668562296136, 4.601363447756403e-05, 0.004269735688412063, 0.0010568590862450242, 0.009268296569203452, 0.019584495404503622, 0.011201486529556133, 0.0037051968747883047, 0.00044665008540953994, 0.011477910532377832, 0.0, 0.015456440924934128, 0.05189112661308589], \"type\": \"scatter\", \"uid\": \"8ee515e2-8e23-4310-9f58-cb963e06ad7a\"}], {\"autosize\": true, \"hovermode\": \"closest\", \"showlegend\": false, \"title\": {\"text\": \"Gradient Boosting Model Feature Importance\"}, \"xaxis\": {\"showgrid\": false, \"showline\": false, \"ticklen\": 5, \"zeroline\": false}, \"yaxis\": {\"gridwidth\": 2, \"showgrid\": false, \"ticklen\": 5, \"title\": {\"text\": \"Feature Importance\"}, \"zeroline\": false}}, {\"showLink\": false, \"linkText\": \"Export to plot.ly\", \"plotlyServerURL\": \"https://plot.ly\"})});</script><script type=\"text/javascript\">window.addEventListener(\"resize\", function(){window._Plotly.Plots.resize(document.getElementById(\"f8572062-8da5-4891-8a40-9603edcec3d6\"));});</script>",
            "text/html": [
              "<div id=\"f8572062-8da5-4891-8a40-9603edcec3d6\" style=\"height: 525px; width: 100%;\" class=\"plotly-graph-div\"></div><script type=\"text/javascript\">require([\"plotly\"], function(Plotly) { window.PLOTLYENV=window.PLOTLYENV || {};window.PLOTLYENV.BASE_URL=\"https://plot.ly\";Plotly.newPlot(\"f8572062-8da5-4891-8a40-9603edcec3d6\", [{\"marker\": {\"color\": [0.05259819567626307, 0.043284814491252654, 0.0446068071275324, 0.006185096315668237, 0.04776356621809181, 0.02788140346334743, 0.054583171385528526, 0.034904685803825254, 0.02380891237516712, 0.025260161698547758, 0.11955146009834582, 0.028242155166277077, 0.05086170535835489, 0.02645275804900594, 0.004071309303330441, 0.013725728366959733, 0.03267433306303725, 0.02764226079503268, 0.027429227909406176, 0.01600149899085848, 0.021800952525200312, 0.025386865972237504, 0.016585686615561923, 0.025164442663135295, 0.006814249568761765, 0.010597180893801472, 0.0010286092100326369, 0.0014430545678013422, 0.011477766437983566, 0.004825430859653556, 0.0020719088915441943, 0.004945598019134007, 0.000286220079800604, 0.0019473995572111616, 0.00020617385771360528, 0.005971996489893577, 0.00212142604741245, 0.009108835457165692, 0.0006988131244011937, 0.004093458706498043, 0.0074904668562296136, 4.601363447756403e-05, 0.004269735688412063, 0.0010568590862450242, 0.009268296569203452, 0.019584495404503622, 0.011201486529556133, 0.0037051968747883047, 0.00044665008540953994, 0.011477910532377832, 0.0, 0.015456440924934128, 0.05189112661308589], \"colorscale\": \"Portland\", \"showscale\": true, \"size\": 13, \"sizemode\": \"diameter\", \"sizeref\": 1}, \"mode\": \"markers\", \"text\": [\"Age\", \"DailyRate\", \"DistanceFromHome\", \"Education\", \"EmployeeNumber\", \"EnvironmentSatisfaction\", \"HourlyRate\", \"JobInvolvement\", \"JobLevel\", \"JobSatisfaction\", \"MonthlyIncome\", \"MonthlyRate\", \"NumCompaniesWorked\", \"PercentSalaryHike\", \"PerformanceRating\", \"RelationshipSatisfaction\", \"StockOptionLevel\", \"TotalWorkingYears\", \"TrainingTimesLastYear\", \"WorkLifeBalance\", \"YearsAtCompany\", \"YearsInCurrentRole\", \"YearsSinceLastPromotion\", \"YearsWithCurrManager\", \"Attrition\", \"BusinessTravel_Non-Travel\", \"BusinessTravel_Travel_Frequently\", \"BusinessTravel_Travel_Rarely\", \"Department_Human Resources\", \"Department_Research & Development\", \"Department_Sales\", \"EducationField_Human Resources\", \"EducationField_Life Sciences\", \"EducationField_Marketing\", \"EducationField_Medical\", \"EducationField_Other\", \"EducationField_Technical Degree\", \"Gender_Female\", \"Gender_Male\", \"JobRole_Healthcare Representative\", \"JobRole_Human Resources\", \"JobRole_Laboratory Technician\", \"JobRole_Manager\", \"JobRole_Manufacturing Director\", \"JobRole_Research Director\", \"JobRole_Research Scientist\", \"JobRole_Sales Executive\", \"JobRole_Sales Representative\", \"MaritalStatus_Divorced\", \"MaritalStatus_Married\", \"MaritalStatus_Single\", \"Over18_Y\", \"OverTime_No\", \"OverTime_Yes\"], \"x\": [\"Age\", \"DailyRate\", \"DistanceFromHome\", \"Education\", \"EmployeeNumber\", \"EnvironmentSatisfaction\", \"HourlyRate\", \"JobInvolvement\", \"JobLevel\", \"JobSatisfaction\", \"MonthlyIncome\", \"MonthlyRate\", \"NumCompaniesWorked\", \"PercentSalaryHike\", \"PerformanceRating\", \"RelationshipSatisfaction\", \"StockOptionLevel\", \"TotalWorkingYears\", \"TrainingTimesLastYear\", \"WorkLifeBalance\", \"YearsAtCompany\", \"YearsInCurrentRole\", \"YearsSinceLastPromotion\", \"YearsWithCurrManager\", \"Attrition\", \"BusinessTravel_Non-Travel\", \"BusinessTravel_Travel_Frequently\", \"BusinessTravel_Travel_Rarely\", \"Department_Human Resources\", \"Department_Research & Development\", \"Department_Sales\", \"EducationField_Human Resources\", \"EducationField_Life Sciences\", \"EducationField_Marketing\", \"EducationField_Medical\", \"EducationField_Other\", \"EducationField_Technical Degree\", \"Gender_Female\", \"Gender_Male\", \"JobRole_Healthcare Representative\", \"JobRole_Human Resources\", \"JobRole_Laboratory Technician\", \"JobRole_Manager\", \"JobRole_Manufacturing Director\", \"JobRole_Research Director\", \"JobRole_Research Scientist\", \"JobRole_Sales Executive\", \"JobRole_Sales Representative\", \"MaritalStatus_Divorced\", \"MaritalStatus_Married\", \"MaritalStatus_Single\", \"Over18_Y\", \"OverTime_No\", \"OverTime_Yes\"], \"y\": [0.05259819567626307, 0.043284814491252654, 0.0446068071275324, 0.006185096315668237, 0.04776356621809181, 0.02788140346334743, 0.054583171385528526, 0.034904685803825254, 0.02380891237516712, 0.025260161698547758, 0.11955146009834582, 0.028242155166277077, 0.05086170535835489, 0.02645275804900594, 0.004071309303330441, 0.013725728366959733, 0.03267433306303725, 0.02764226079503268, 0.027429227909406176, 0.01600149899085848, 0.021800952525200312, 0.025386865972237504, 0.016585686615561923, 0.025164442663135295, 0.006814249568761765, 0.010597180893801472, 0.0010286092100326369, 0.0014430545678013422, 0.011477766437983566, 0.004825430859653556, 0.0020719088915441943, 0.004945598019134007, 0.000286220079800604, 0.0019473995572111616, 0.00020617385771360528, 0.005971996489893577, 0.00212142604741245, 0.009108835457165692, 0.0006988131244011937, 0.004093458706498043, 0.0074904668562296136, 4.601363447756403e-05, 0.004269735688412063, 0.0010568590862450242, 0.009268296569203452, 0.019584495404503622, 0.011201486529556133, 0.0037051968747883047, 0.00044665008540953994, 0.011477910532377832, 0.0, 0.015456440924934128, 0.05189112661308589], \"type\": \"scatter\", \"uid\": \"8ee515e2-8e23-4310-9f58-cb963e06ad7a\"}], {\"autosize\": true, \"hovermode\": \"closest\", \"showlegend\": false, \"title\": {\"text\": \"Gradient Boosting Model Feature Importance\"}, \"xaxis\": {\"showgrid\": false, \"showline\": false, \"ticklen\": 5, \"zeroline\": false}, \"yaxis\": {\"gridwidth\": 2, \"showgrid\": false, \"ticklen\": 5, \"title\": {\"text\": \"Feature Importance\"}, \"zeroline\": false}}, {\"showLink\": false, \"linkText\": \"Export to plot.ly\", \"plotlyServerURL\": \"https://plot.ly\"})});</script><script type=\"text/javascript\">window.addEventListener(\"resize\", function(){window._Plotly.Plots.resize(document.getElementById(\"f8572062-8da5-4891-8a40-9603edcec3d6\"));});</script>"
            ],
            "application/vnd.plotly.v1+json": {
              "layout": {
                "autosize": true,
                "title": {
                  "text": "Gradient Boosting Model Feature Importance"
                },
                "yaxis": {
                  "zeroline": false,
                  "title": {
                    "text": "Feature Importance"
                  },
                  "ticklen": 5,
                  "gridwidth": 2,
                  "showgrid": false
                },
                "showlegend": false,
                "xaxis": {
                  "zeroline": false,
                  "showline": false,
                  "ticklen": 5,
                  "showgrid": false
                },
                "hovermode": "closest"
              },
              "config": {
                "plotlyServerURL": "https://plot.ly",
                "linkText": "Export to plot.ly",
                "showLink": false
              },
              "data": [
                {
                  "uid": "8ee515e2-8e23-4310-9f58-cb963e06ad7a",
                  "text": [
                    "Age",
                    "DailyRate",
                    "DistanceFromHome",
                    "Education",
                    "EmployeeNumber",
                    "EnvironmentSatisfaction",
                    "HourlyRate",
                    "JobInvolvement",
                    "JobLevel",
                    "JobSatisfaction",
                    "MonthlyIncome",
                    "MonthlyRate",
                    "NumCompaniesWorked",
                    "PercentSalaryHike",
                    "PerformanceRating",
                    "RelationshipSatisfaction",
                    "StockOptionLevel",
                    "TotalWorkingYears",
                    "TrainingTimesLastYear",
                    "WorkLifeBalance",
                    "YearsAtCompany",
                    "YearsInCurrentRole",
                    "YearsSinceLastPromotion",
                    "YearsWithCurrManager",
                    "Attrition",
                    "BusinessTravel_Non-Travel",
                    "BusinessTravel_Travel_Frequently",
                    "BusinessTravel_Travel_Rarely",
                    "Department_Human Resources",
                    "Department_Research & Development",
                    "Department_Sales",
                    "EducationField_Human Resources",
                    "EducationField_Life Sciences",
                    "EducationField_Marketing",
                    "EducationField_Medical",
                    "EducationField_Other",
                    "EducationField_Technical Degree",
                    "Gender_Female",
                    "Gender_Male",
                    "JobRole_Healthcare Representative",
                    "JobRole_Human Resources",
                    "JobRole_Laboratory Technician",
                    "JobRole_Manager",
                    "JobRole_Manufacturing Director",
                    "JobRole_Research Director",
                    "JobRole_Research Scientist",
                    "JobRole_Sales Executive",
                    "JobRole_Sales Representative",
                    "MaritalStatus_Divorced",
                    "MaritalStatus_Married",
                    "MaritalStatus_Single",
                    "Over18_Y",
                    "OverTime_No",
                    "OverTime_Yes"
                  ],
                  "y": [
                    0.05259819567626307,
                    0.043284814491252654,
                    0.0446068071275324,
                    0.006185096315668237,
                    0.04776356621809181,
                    0.02788140346334743,
                    0.054583171385528526,
                    0.034904685803825254,
                    0.02380891237516712,
                    0.025260161698547758,
                    0.11955146009834582,
                    0.028242155166277077,
                    0.05086170535835489,
                    0.02645275804900594,
                    0.004071309303330441,
                    0.013725728366959733,
                    0.03267433306303725,
                    0.02764226079503268,
                    0.027429227909406176,
                    0.01600149899085848,
                    0.021800952525200312,
                    0.025386865972237504,
                    0.016585686615561923,
                    0.025164442663135295,
                    0.006814249568761765,
                    0.010597180893801472,
                    0.0010286092100326369,
                    0.0014430545678013422,
                    0.011477766437983566,
                    0.004825430859653556,
                    0.0020719088915441943,
                    0.004945598019134007,
                    0.000286220079800604,
                    0.0019473995572111616,
                    0.00020617385771360528,
                    0.005971996489893577,
                    0.00212142604741245,
                    0.009108835457165692,
                    0.0006988131244011937,
                    0.004093458706498043,
                    0.0074904668562296136,
                    0.00004601363447756403,
                    0.004269735688412063,
                    0.0010568590862450242,
                    0.009268296569203452,
                    0.019584495404503622,
                    0.011201486529556133,
                    0.0037051968747883047,
                    0.00044665008540953994,
                    0.011477910532377832,
                    0,
                    0.015456440924934128,
                    0.05189112661308589
                  ],
                  "mode": "markers",
                  "marker": {
                    "sizeref": 1,
                    "colorscale": "Portland",
                    "color": [
                      0.05259819567626307,
                      0.043284814491252654,
                      0.0446068071275324,
                      0.006185096315668237,
                      0.04776356621809181,
                      0.02788140346334743,
                      0.054583171385528526,
                      0.034904685803825254,
                      0.02380891237516712,
                      0.025260161698547758,
                      0.11955146009834582,
                      0.028242155166277077,
                      0.05086170535835489,
                      0.02645275804900594,
                      0.004071309303330441,
                      0.013725728366959733,
                      0.03267433306303725,
                      0.02764226079503268,
                      0.027429227909406176,
                      0.01600149899085848,
                      0.021800952525200312,
                      0.025386865972237504,
                      0.016585686615561923,
                      0.025164442663135295,
                      0.006814249568761765,
                      0.010597180893801472,
                      0.0010286092100326369,
                      0.0014430545678013422,
                      0.011477766437983566,
                      0.004825430859653556,
                      0.0020719088915441943,
                      0.004945598019134007,
                      0.000286220079800604,
                      0.0019473995572111616,
                      0.00020617385771360528,
                      0.005971996489893577,
                      0.00212142604741245,
                      0.009108835457165692,
                      0.0006988131244011937,
                      0.004093458706498043,
                      0.0074904668562296136,
                      0.00004601363447756403,
                      0.004269735688412063,
                      0.0010568590862450242,
                      0.009268296569203452,
                      0.019584495404503622,
                      0.011201486529556133,
                      0.0037051968747883047,
                      0.00044665008540953994,
                      0.011477910532377832,
                      0,
                      0.015456440924934128,
                      0.05189112661308589
                    ],
                    "sizemode": "diameter",
                    "showscale": true,
                    "size": 13
                  },
                  "x": [
                    "Age",
                    "DailyRate",
                    "DistanceFromHome",
                    "Education",
                    "EmployeeNumber",
                    "EnvironmentSatisfaction",
                    "HourlyRate",
                    "JobInvolvement",
                    "JobLevel",
                    "JobSatisfaction",
                    "MonthlyIncome",
                    "MonthlyRate",
                    "NumCompaniesWorked",
                    "PercentSalaryHike",
                    "PerformanceRating",
                    "RelationshipSatisfaction",
                    "StockOptionLevel",
                    "TotalWorkingYears",
                    "TrainingTimesLastYear",
                    "WorkLifeBalance",
                    "YearsAtCompany",
                    "YearsInCurrentRole",
                    "YearsSinceLastPromotion",
                    "YearsWithCurrManager",
                    "Attrition",
                    "BusinessTravel_Non-Travel",
                    "BusinessTravel_Travel_Frequently",
                    "BusinessTravel_Travel_Rarely",
                    "Department_Human Resources",
                    "Department_Research & Development",
                    "Department_Sales",
                    "EducationField_Human Resources",
                    "EducationField_Life Sciences",
                    "EducationField_Marketing",
                    "EducationField_Medical",
                    "EducationField_Other",
                    "EducationField_Technical Degree",
                    "Gender_Female",
                    "Gender_Male",
                    "JobRole_Healthcare Representative",
                    "JobRole_Human Resources",
                    "JobRole_Laboratory Technician",
                    "JobRole_Manager",
                    "JobRole_Manufacturing Director",
                    "JobRole_Research Director",
                    "JobRole_Research Scientist",
                    "JobRole_Sales Executive",
                    "JobRole_Sales Representative",
                    "MaritalStatus_Divorced",
                    "MaritalStatus_Married",
                    "MaritalStatus_Single",
                    "Over18_Y",
                    "OverTime_No",
                    "OverTime_Yes"
                  ],
                  "type": "scatter"
                }
              ]
            }
          },
          "metadata": {
            "tags": []
          }
        }
      ]
    },
    {
      "metadata": {
        "id": "bzwgh7Agn0-7",
        "colab_type": "code",
        "outputId": "004a1869-ee48-454e-accb-d4f503c0ad7b",
        "colab": {
          "base_uri": "https://localhost:8080/",
          "height": 391
        }
      },
      "cell_type": "code",
      "source": [
        "hr_data_final.columns.values"
      ],
      "execution_count": 0,
      "outputs": [
        {
          "output_type": "execute_result",
          "data": {
            "text/plain": [
              "array(['Age', 'DailyRate', 'DistanceFromHome', 'Education',\n",
              "       'EmployeeNumber', 'EnvironmentSatisfaction', 'HourlyRate',\n",
              "       'JobInvolvement', 'JobLevel', 'JobSatisfaction', 'MonthlyIncome',\n",
              "       'MonthlyRate', 'NumCompaniesWorked', 'PercentSalaryHike',\n",
              "       'PerformanceRating', 'RelationshipSatisfaction',\n",
              "       'StockOptionLevel', 'TotalWorkingYears', 'TrainingTimesLastYear',\n",
              "       'WorkLifeBalance', 'YearsAtCompany', 'YearsInCurrentRole',\n",
              "       'YearsSinceLastPromotion', 'YearsWithCurrManager', 'Attrition',\n",
              "       'BusinessTravel_Non-Travel', 'BusinessTravel_Travel_Frequently',\n",
              "       'BusinessTravel_Travel_Rarely', 'Department_Human Resources',\n",
              "       'Department_Research & Development', 'Department_Sales',\n",
              "       'EducationField_Human Resources', 'EducationField_Life Sciences',\n",
              "       'EducationField_Marketing', 'EducationField_Medical',\n",
              "       'EducationField_Other', 'EducationField_Technical Degree',\n",
              "       'Gender_Female', 'Gender_Male',\n",
              "       'JobRole_Healthcare Representative', 'JobRole_Human Resources',\n",
              "       'JobRole_Laboratory Technician', 'JobRole_Manager',\n",
              "       'JobRole_Manufacturing Director', 'JobRole_Research Director',\n",
              "       'JobRole_Research Scientist', 'JobRole_Sales Executive',\n",
              "       'JobRole_Sales Representative', 'MaritalStatus_Divorced',\n",
              "       'MaritalStatus_Married', 'MaritalStatus_Single', 'Over18_Y',\n",
              "       'OverTime_No', 'OverTime_Yes'], dtype=object)"
            ]
          },
          "metadata": {
            "tags": []
          },
          "execution_count": 60
        }
      ]
    },
    {
      "metadata": {
        "id": "Oi5pMkiLn4dX",
        "colab_type": "code",
        "outputId": "427aea7d-387d-49fb-ae56-3e921ce433d3",
        "colab": {
          "base_uri": "https://localhost:8080/",
          "height": 34
        }
      },
      "cell_type": "code",
      "source": [
        "import plotly\n",
        "plotly.__version__"
      ],
      "execution_count": 0,
      "outputs": [
        {
          "output_type": "execute_result",
          "data": {
            "text/plain": [
              "'3.6.1'"
            ]
          },
          "metadata": {
            "tags": []
          },
          "execution_count": 108
        }
      ]
    },
    {
      "metadata": {
        "id": "vsMBLqgs2uQB",
        "colab_type": "code",
        "colab": {}
      },
      "cell_type": "code",
      "source": [
        ""
      ],
      "execution_count": 0,
      "outputs": []
    }
  ]
}