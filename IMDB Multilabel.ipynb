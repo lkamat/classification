{
 "cells": [
  {
   "cell_type": "code",
   "execution_count": 1,
   "metadata": {
    "collapsed": true
   },
   "outputs": [],
   "source": [
    "import pandas as pd \n",
    "import numpy as np\n",
    "import re\n",
    "\n",
    "from nltk.tokenize import word_tokenize, sent_tokenize\n",
    "from nltk.corpus import stopwords\n",
    "# list of stopwords like articles, preposition\n",
    "stop = set(stopwords.words('english'))\n",
    "from string import punctuation\n",
    "from collections import Counter\n",
    "\n",
    "from sklearn.feature_extraction.text import TfidfVectorizer\n",
    "from sklearn.model_selection import train_test_split\n",
    "from sklearn.metrics import precision_recall_fscore_support\n",
    "\n",
    "from sklearn.preprocessing import MultiLabelBinarizer\n",
    "import matplotlib.pyplot as plt\n",
    "import seaborn as sns\n",
    "%matplotlib inline\n",
    "\n"
   ]
  },
  {
   "cell_type": "code",
   "execution_count": 2,
   "metadata": {
    "collapsed": true
   },
   "outputs": [],
   "source": [
    "#read the csv file\n",
    "data = pd.read_csv('IMDB.csv')"
   ]
  },
  {
   "cell_type": "code",
   "execution_count": 3,
   "metadata": {},
   "outputs": [
    {
     "data": {
      "text/plain": [
       "(1000, 12)"
      ]
     },
     "execution_count": 3,
     "metadata": {},
     "output_type": "execute_result"
    }
   ],
   "source": [
    "data.shape"
   ]
  },
  {
   "cell_type": "code",
   "execution_count": 5,
   "metadata": {
    "collapsed": true
   },
   "outputs": [],
   "source": [
    "#data.Genre.value_counts()"
   ]
  },
  {
   "cell_type": "code",
   "execution_count": 6,
   "metadata": {
    "collapsed": true
   },
   "outputs": [],
   "source": [
    "mlb=MultiLabelBinarizer()\n",
    "Y=mlb.fit_transform(data['Genre'])"
   ]
  },
  {
   "cell_type": "code",
   "execution_count": 8,
   "metadata": {},
   "outputs": [
    {
     "name": "stdout",
     "output_type": "stream",
     "text": [
      "(1000, 31)\n",
      "[895 120 417  81 403 513 255 148 127 141 138 195  20 691 493 479 814  81\n",
      " 272 690 250 765 576 767  91 897 258 572 280 259 569]\n"
     ]
    }
   ],
   "source": [
    "print (Y.shape)\n",
    "print (np.sum(Y, axis=0))"
   ]
  },
  {
   "cell_type": "code",
   "execution_count": 11,
   "metadata": {
    "collapsed": true
   },
   "outputs": [],
   "source": [
    "from sklearn.feature_extraction.text import CountVectorizer\n",
    "from sklearn.utils import shuffle"
   ]
  },
  {
   "cell_type": "code",
   "execution_count": 26,
   "metadata": {
    "collapsed": true
   },
   "outputs": [],
   "source": [
    "list_of_values = ['Title', 'Genre', 'Description']\n",
    "\n",
    "data = data[list(list_of_values)]\n",
    "data = shuffle(data)\n",
    "X = data.drop('Genre', axis = 1)"
   ]
  },
  {
   "cell_type": "code",
   "execution_count": 16,
   "metadata": {
    "collapsed": true
   },
   "outputs": [],
   "source": [
    "#data.head()"
   ]
  },
  {
   "cell_type": "code",
   "execution_count": 27,
   "metadata": {
    "collapsed": true
   },
   "outputs": [],
   "source": [
    "# The min_df paramter makes sure we exclude words that only occur very rarely\n",
    "# The default also is to exclude any words that occur in every movie description\n",
    "vectorize=CountVectorizer(max_df=0.95, min_df=0.005)\n",
    "X=vectorize.fit_transform(list(data['Description']))"
   ]
  },
  {
   "cell_type": "code",
   "execution_count": 28,
   "metadata": {},
   "outputs": [
    {
     "data": {
      "text/plain": [
       "(1000, 812)"
      ]
     },
     "execution_count": 28,
     "metadata": {},
     "output_type": "execute_result"
    }
   ],
   "source": [
    "X.shape"
   ]
  },
  {
   "cell_type": "code",
   "execution_count": 29,
   "metadata": {
    "collapsed": true
   },
   "outputs": [],
   "source": [
    "from sklearn.feature_extraction.text import TfidfTransformer"
   ]
  },
  {
   "cell_type": "code",
   "execution_count": 30,
   "metadata": {},
   "outputs": [
    {
     "data": {
      "text/plain": [
       "(1000, 812)"
      ]
     },
     "execution_count": 30,
     "metadata": {},
     "output_type": "execute_result"
    }
   ],
   "source": [
    "tfidf_transformer = TfidfTransformer()\n",
    "X_tfidf = tfidf_transformer.fit_transform(X)\n",
    "X_tfidf.shape"
   ]
  },
  {
   "cell_type": "code",
   "execution_count": 31,
   "metadata": {
    "collapsed": true
   },
   "outputs": [],
   "source": [
    "msk = np.random.rand(X_tfidf.shape[0]) < 0.8"
   ]
  },
  {
   "cell_type": "code",
   "execution_count": 32,
   "metadata": {
    "collapsed": true
   },
   "outputs": [],
   "source": [
    "X_train_tfidf=X_tfidf[msk]\n",
    "X_test_tfidf=X_tfidf[~msk]\n",
    "Y_train=Y[msk]\n",
    "Y_test=Y[~msk]\n"
   ]
  },
  {
   "cell_type": "code",
   "execution_count": 91,
   "metadata": {
    "scrolled": true
   },
   "outputs": [
    {
     "name": "stdout",
     "output_type": "stream",
     "text": [
      "The accuracy of the KNN is 0.0\n",
      "             precision    recall  f1-score   support\n",
      "\n",
      "          0       0.90      0.97      0.94       173\n",
      "          1       0.00      0.00      0.00        16\n",
      "          2       0.37      0.14      0.20        72\n",
      "          3       0.00      0.00      0.00        14\n",
      "          4       0.35      0.08      0.14        83\n",
      "          5       0.56      0.37      0.44        92\n",
      "          6       0.14      0.03      0.05        37\n",
      "          7       0.00      0.00      0.00        31\n",
      "          8       0.00      0.00      0.00        35\n",
      "          9       0.00      0.00      0.00        40\n",
      "         10       0.00      0.00      0.00        18\n",
      "         11       0.00      0.00      0.00        35\n",
      "         12       0.00      0.00      0.00         5\n",
      "         13       0.70      0.76      0.73       129\n",
      "         14       0.46      0.30      0.36        97\n",
      "         15       0.47      0.16      0.24        95\n",
      "         16       0.86      0.76      0.81       163\n",
      "         17       0.00      0.00      0.00        14\n",
      "         18       0.33      0.04      0.07        48\n",
      "         19       0.66      0.52      0.58       125\n",
      "         20       0.60      0.07      0.12        46\n",
      "         21       0.80      0.82      0.81       154\n",
      "         22       0.59      0.47      0.52       113\n",
      "         23       0.81      0.79      0.80       155\n",
      "         24       0.00      0.00      0.00        15\n",
      "         25       0.86      0.96      0.91       166\n",
      "         26       0.00      0.00      0.00        55\n",
      "         27       0.53      0.42      0.47       107\n",
      "         28       0.33      0.04      0.07        49\n",
      "         29       0.33      0.05      0.08        43\n",
      "         30       0.69      0.42      0.52       125\n",
      "\n",
      "avg / total       0.57      0.48      0.50      2350\n",
      "\n"
     ]
    },
    {
     "name": "stderr",
     "output_type": "stream",
     "text": [
      "/Users/sanjay/anaconda/lib/python3.5/site-packages/sklearn/metrics/classification.py:1113: UndefinedMetricWarning: Precision and F-score are ill-defined and being set to 0.0 in labels with no predicted samples.\n",
      "  'precision', 'predicted', average, warn_for)\n"
     ]
    }
   ],
   "source": []
  },
  {
   "cell_type": "code",
   "execution_count": 33,
   "metadata": {
    "collapsed": true
   },
   "outputs": [],
   "source": [
    "from sklearn.multiclass import OneVsRestClassifier\n",
    "from sklearn.svm import SVC\n",
    "from sklearn.model_selection import GridSearchCV\n",
    "from sklearn.metrics import f1_score\n",
    "from sklearn.metrics import make_scorer\n",
    "from sklearn.metrics import classification_report\n"
   ]
  },
  {
   "cell_type": "code",
   "execution_count": 35,
   "metadata": {},
   "outputs": [
    {
     "data": {
      "text/plain": [
       "OneVsRestClassifier(estimator=GridSearchCV(cv=None, error_score='raise',\n",
       "       estimator=SVC(C=1.0, cache_size=200, class_weight='balanced', coef0=0.0,\n",
       "  decision_function_shape=None, degree=3, gamma='auto', kernel='rbf',\n",
       "  max_iter=-1, probability=False, random_state=None, shrinking=True,\n",
       "  tol=0.001, verbose=False),...refit=True, return_train_score=True,\n",
       "       scoring=make_scorer(f1_score, average=micro), verbose=0),\n",
       "          n_jobs=1)"
      ]
     },
     "execution_count": 35,
     "metadata": {},
     "output_type": "execute_result"
    }
   ],
   "source": [
    "parameters = {'kernel':['linear'], 'C':[0.01, 0.1, 1.0]}\n",
    "gridCV = GridSearchCV(SVC(class_weight='balanced'), parameters, scoring=make_scorer(f1_score, average='micro'))\n",
    "classif = OneVsRestClassifier(gridCV)\n",
    "\n",
    "classif.fit(X_train_tfidf, Y_train)"
   ]
  },
  {
   "cell_type": "code",
   "execution_count": 65,
   "metadata": {},
   "outputs": [
    {
     "name": "stdout",
     "output_type": "stream",
     "text": [
      "The accuracy of the Logistic Regression is 0.0\n",
      "                            precision    recall  f1-score   support\n",
      "\n",
      "   Action,Adventure,Sci-Fi       0.87      0.81      0.84       189\n",
      "  Adventure,Mystery,Sci-Fi       0.15      0.27      0.19        22\n",
      "           Horror,Thriller       0.34      0.48      0.40        81\n",
      "   Animation,Comedy,Family       0.07      1.00      0.13        15\n",
      "  Action,Adventure,Fantasy       0.35      0.37      0.36        83\n",
      "  Action,Adventure,Fantasy       0.56      0.52      0.54       122\n",
      "        Comedy,Drama,Music       0.26      0.38      0.31        56\n",
      "                    Comedy       0.16      1.00      0.28        35\n",
      "Action,Adventure,Biography       0.18      0.23      0.20        30\n",
      "   Adventure,Drama,Romance       1.00      0.05      0.10        38\n",
      "  Adventure,Family,Fantasy       0.12      0.25      0.17        24\n",
      "   Biography,Drama,History       0.19      1.00      0.32        41\n",
      "   Action,Adventure,Sci-Fi       0.00      0.00      0.00         3\n",
      "Animation,Adventure,Comedy       0.76      0.64      0.69       154\n",
      "       Action,Comedy,Drama       0.48      0.47      0.47       106\n",
      "Animation,Adventure,Comedy       0.45      1.00      0.62        97\n",
      "   Biography,Drama,History       0.80      1.00      0.89       172\n",
      "           Action,Thriller       0.07      1.00      0.13        15\n",
      "           Biography,Drama       0.00      0.00      0.00        55\n",
      "      Drama,Mystery,Sci-Fi       0.00      0.00      0.00       134\n",
      "  Adventure,Drama,Thriller       0.22      0.37      0.28        54\n",
      "                     Drama       0.76      0.66      0.70       170\n",
      "        Crime,Drama,Horror       0.58      1.00      0.74       126\n",
      "Animation,Adventure,Comedy       0.78      0.65      0.71       165\n",
      "   Action,Adventure,Sci-Fi       0.11      0.24      0.15        17\n",
      "                    Comedy       0.90      1.00      0.95       195\n",
      "    Action,Adventure,Drama       0.31      0.39      0.34        62\n",
      "           Horror,Thriller       0.00      0.00      0.00       112\n",
      "                    Comedy       0.00      0.00      0.00        51\n",
      "    Action,Adventure,Drama       0.00      0.00      0.00        47\n",
      "                    Comedy       0.55      0.42      0.48       128\n",
      "\n",
      "               avg / total       0.51      0.58      0.51      2599\n",
      "\n"
     ]
    },
    {
     "name": "stderr",
     "output_type": "stream",
     "text": [
      "/Users/sanjay/anaconda/lib/python3.5/site-packages/sklearn/metrics/classification.py:1113: UndefinedMetricWarning: Precision and F-score are ill-defined and being set to 0.0 in labels with no predicted samples.\n",
      "  'precision', 'predicted', average, warn_for)\n"
     ]
    }
   ],
   "source": [
    "from sklearn import metrics\n",
    "predstfidf=classif.predict(X_test_tfidf)\n",
    "print('The accuracy of the Logistic Regression is',metrics.accuracy_score(predstfidf,Y_test))\n",
    "#print (classification_report(Y_test, predstfidf, target_names=data['Genre']))"
   ]
  },
  {
   "cell_type": "code",
   "execution_count": 64,
   "metadata": {},
   "outputs": [
    {
     "name": "stdout",
     "output_type": "stream",
     "text": [
      "The accuracy of the Logistic Regression is 0.00462962962963\n"
     ]
    }
   ],
   "source": [
    "from sklearn.naive_bayes import MultinomialNB\n",
    "classifnb = OneVsRestClassifier(MultinomialNB())\n",
    "classifnb.fit(X[msk].toarray(), Y_train)\n",
    "predsnb=classifnb.predict(X[~msk].toarray())\n",
    "print('The accuracy of the Logistic Regression is',metrics.accuracy_score(predsnb,Y_test))"
   ]
  },
  {
   "cell_type": "code",
   "execution_count": 56,
   "metadata": {
    "collapsed": true
   },
   "outputs": [],
   "source": [
    "predictionsnb=[]\n",
    "for i in range(X_test_tfidf.shape[0]):\n",
    "    pred_genres=[]\n",
    "    movie_label_scores=predsnb[i]\n",
    "    for j in range(20):\n",
    "        #print j\n",
    "        if movie_label_scores[j]!=0:\n",
    "            genre=data['Genre'][j]\n",
    "            pred_genres.append(genre)\n",
    "    predictionsnb.append(pred_genres)"
   ]
  },
  {
   "cell_type": "code",
   "execution_count": 63,
   "metadata": {},
   "outputs": [
    {
     "name": "stdout",
     "output_type": "stream",
     "text": [
      "MOVIE:  Star Wars: Episode VII - The Force Awakens \tGenre:  Action,Adventure,Fantasy \tPREDICTION:  Action,Adventure,Sci-Fi,Horror,Thriller,Action,Adventure,Fantasy,Animation,Adventure,Comedy,Action,Comedy,Drama,Animation,Adventure,Comedy,Biography,Drama,History,Drama,Mystery,Sci-Fi\n",
      "MOVIE:  Legend \tGenre:  Biography,Crime,Drama \tPREDICTION:  Action,Adventure,Sci-Fi,Action,Adventure,Fantasy,Comedy,Animation,Adventure,Comedy,Biography,Drama,History\n",
      "MOVIE:  The BFG \tGenre:  Adventure,Family,Fantasy \tPREDICTION:  Action,Adventure,Sci-Fi,Horror,Thriller,Action,Adventure,Fantasy,Animation,Adventure,Comedy,Biography,Drama,History,Drama,Mystery,Sci-Fi\n",
      "MOVIE:  Edge of Tomorrow \tGenre:  Action,Adventure,Sci-Fi \tPREDICTION:  Action,Adventure,Sci-Fi,Horror,Thriller,Action,Adventure,Fantasy,Animation,Adventure,Comedy,Animation,Adventure,Comedy,Biography,Drama,History,Drama,Mystery,Sci-Fi\n"
     ]
    }
   ],
   "source": [
    "for i in range(X_test_tfidf.shape[0]):\n",
    "    if i%50==0 and i!=0:\n",
    "        print ('MOVIE: ',data['Title'][i],'\\tGenre: ',data['Genre'][i], '\\tPREDICTION: ',','.join(predictionsnb[i]))"
   ]
  },
  {
   "cell_type": "code",
   "execution_count": 66,
   "metadata": {},
   "outputs": [
    {
     "name": "stderr",
     "output_type": "stream",
     "text": [
      "Using TensorFlow backend.\n"
     ]
    }
   ],
   "source": [
    "from keras.models import Sequential\n",
    "from keras.layers import Dense, Activation\n",
    "\n",
    "model_textual = Sequential([\n",
    "    Dense(300, input_shape=(300,)),\n",
    "    Activation('relu'),\n",
    "    Dense(20),\n",
    "    Activation('softmax'),\n",
    "])\n",
    "\n",
    "model_textual.compile(optimizer='rmsprop',\n",
    "              loss='binary_crossentropy',\n",
    "              metrics=['accuracy'])"
   ]
  },
  {
   "cell_type": "code",
   "execution_count": 68,
   "metadata": {},
   "outputs": [
    {
     "data": {
      "text/plain": [
       "(1000, 812)"
      ]
     },
     "execution_count": 68,
     "metadata": {},
     "output_type": "execute_result"
    }
   ],
   "source": [
    "X.shape"
   ]
  },
  {
   "cell_type": "code",
   "execution_count": 72,
   "metadata": {
    "collapsed": true
   },
   "outputs": [],
   "source": [
    "mask_text = np.random.rand(X.shape[0]) < 0.8"
   ]
  },
  {
   "cell_type": "code",
   "execution_count": 73,
   "metadata": {
    "collapsed": true
   },
   "outputs": [],
   "source": [
    "X_train=X[mask_text]\n",
    "Y_train=Y[mask_text]\n",
    "X_test=X[~mask_text]\n",
    "Y_test=Y[~mask_text]"
   ]
  },
  {
   "cell_type": "code",
   "execution_count": 81,
   "metadata": {
    "collapsed": true
   },
   "outputs": [],
   "source": [
    "from keras.models import Sequential\n",
    "from keras.layers import Dense, Activation\n",
    "\n",
    "model_textual = Sequential([\n",
    "    Dense(812, input_shape=(812,)),\n",
    "    Activation('relu'),\n",
    "    Dense(31),\n",
    "    Activation('softmax'),\n",
    "])\n",
    "\n",
    "model_textual.compile(optimizer='rmsprop',\n",
    "              loss='binary_crossentropy',\n",
    "              metrics=['accuracy'])"
   ]
  },
  {
   "cell_type": "code",
   "execution_count": 77,
   "metadata": {},
   "outputs": [
    {
     "data": {
      "text/plain": [
       "array([[1, 1, 1, ..., 1, 1, 0],\n",
       "       [1, 1, 1, ..., 1, 1, 1],\n",
       "       [1, 0, 0, ..., 0, 0, 0],\n",
       "       ..., \n",
       "       [1, 0, 0, ..., 0, 0, 1],\n",
       "       [1, 0, 1, ..., 1, 1, 1],\n",
       "       [1, 0, 0, ..., 0, 0, 1]])"
      ]
     },
     "execution_count": 77,
     "metadata": {},
     "output_type": "execute_result"
    }
   ],
   "source": [
    "Y_train"
   ]
  },
  {
   "cell_type": "code",
   "execution_count": 87,
   "metadata": {
    "collapsed": true
   },
   "outputs": [],
   "source": [
    "#model_textual.fit(X_train, Y_train)"
   ]
  }
 ],
 "metadata": {
  "kernelspec": {
   "display_name": "Python [default]",
   "language": "python",
   "name": "python3"
  },
  "language_info": {
   "codemirror_mode": {
    "name": "ipython",
    "version": 3
   },
   "file_extension": ".py",
   "mimetype": "text/x-python",
   "name": "python",
   "nbconvert_exporter": "python",
   "pygments_lexer": "ipython3",
   "version": "3.5.3"
  }
 },
 "nbformat": 4,
 "nbformat_minor": 2
}
